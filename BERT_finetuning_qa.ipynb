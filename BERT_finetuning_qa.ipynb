{
  "nbformat": 4,
  "nbformat_minor": 0,
  "metadata": {
    "colab": {
      "provenance": [],
      "gpuType": "T4",
      "mount_file_id": "1NrQKYM3Tdn5DtOVM9tkpYtsM6g2Ta03n",
      "authorship_tag": "ABX9TyMCemYfblTVfkvsa3inaGUz"
    },
    "kernelspec": {
      "name": "python3",
      "display_name": "Python 3"
    },
    "language_info": {
      "name": "python"
    },
    "widgets": {
      "application/vnd.jupyter.widget-state+json": {
        "aa77ec82a228487e8b8296b045adc56e": {
          "model_module": "@jupyter-widgets/controls",
          "model_name": "VBoxModel",
          "model_module_version": "1.5.0",
          "state": {
            "_dom_classes": [],
            "_model_module": "@jupyter-widgets/controls",
            "_model_module_version": "1.5.0",
            "_model_name": "VBoxModel",
            "_view_count": null,
            "_view_module": "@jupyter-widgets/controls",
            "_view_module_version": "1.5.0",
            "_view_name": "VBoxView",
            "box_style": "",
            "children": [
              "IPY_MODEL_e59642f339164f1791ca45258276eccb",
              "IPY_MODEL_02323a60dad84021827b2e2d830f34ff",
              "IPY_MODEL_a34637a37c814c67b51f5fee39d16103",
              "IPY_MODEL_bdd68e5982774ff194ee7be4a5efb631",
              "IPY_MODEL_810cb9eca1f54c328736f67e0c0eb04c"
            ],
            "layout": "IPY_MODEL_f0ed3c345c2e4094aa432f464749b009"
          }
        },
        "e59642f339164f1791ca45258276eccb": {
          "model_module": "@jupyter-widgets/controls",
          "model_name": "HTMLModel",
          "model_module_version": "1.5.0",
          "state": {
            "_dom_classes": [],
            "_model_module": "@jupyter-widgets/controls",
            "_model_module_version": "1.5.0",
            "_model_name": "HTMLModel",
            "_view_count": null,
            "_view_module": "@jupyter-widgets/controls",
            "_view_module_version": "1.5.0",
            "_view_name": "HTMLView",
            "description": "",
            "description_tooltip": null,
            "layout": "IPY_MODEL_8af1c38df6a545179ccbb0bcbcbcdd52",
            "placeholder": "​",
            "style": "IPY_MODEL_f080bcb7811b4cf888d572b77480d077",
            "value": "<center> <img\nsrc=https://huggingface.co/front/assets/huggingface_logo-noborder.svg\nalt='Hugging Face'> <br> Copy a token from <a\nhref=\"https://huggingface.co/settings/tokens\" target=\"_blank\">your Hugging Face\ntokens page</a> and paste it below. <br> Immediately click login after copying\nyour token or it might be stored in plain text in this notebook file. </center>"
          }
        },
        "02323a60dad84021827b2e2d830f34ff": {
          "model_module": "@jupyter-widgets/controls",
          "model_name": "PasswordModel",
          "model_module_version": "1.5.0",
          "state": {
            "_dom_classes": [],
            "_model_module": "@jupyter-widgets/controls",
            "_model_module_version": "1.5.0",
            "_model_name": "PasswordModel",
            "_view_count": null,
            "_view_module": "@jupyter-widgets/controls",
            "_view_module_version": "1.5.0",
            "_view_name": "PasswordView",
            "continuous_update": true,
            "description": "Token:",
            "description_tooltip": null,
            "disabled": false,
            "layout": "IPY_MODEL_331f32a4686c48dc9d8b120d1ae05324",
            "placeholder": "​",
            "style": "IPY_MODEL_7f94d4a3d9944f8cb02194a3c4e948f3",
            "value": ""
          }
        },
        "a34637a37c814c67b51f5fee39d16103": {
          "model_module": "@jupyter-widgets/controls",
          "model_name": "CheckboxModel",
          "model_module_version": "1.5.0",
          "state": {
            "_dom_classes": [],
            "_model_module": "@jupyter-widgets/controls",
            "_model_module_version": "1.5.0",
            "_model_name": "CheckboxModel",
            "_view_count": null,
            "_view_module": "@jupyter-widgets/controls",
            "_view_module_version": "1.5.0",
            "_view_name": "CheckboxView",
            "description": "Add token as git credential?",
            "description_tooltip": null,
            "disabled": false,
            "indent": true,
            "layout": "IPY_MODEL_72f5e4ab60e3490b882b3af3f8b8152b",
            "style": "IPY_MODEL_9ca1ea540e844b5a92a5e37286b5e126",
            "value": true
          }
        },
        "bdd68e5982774ff194ee7be4a5efb631": {
          "model_module": "@jupyter-widgets/controls",
          "model_name": "ButtonModel",
          "model_module_version": "1.5.0",
          "state": {
            "_dom_classes": [],
            "_model_module": "@jupyter-widgets/controls",
            "_model_module_version": "1.5.0",
            "_model_name": "ButtonModel",
            "_view_count": null,
            "_view_module": "@jupyter-widgets/controls",
            "_view_module_version": "1.5.0",
            "_view_name": "ButtonView",
            "button_style": "",
            "description": "Login",
            "disabled": false,
            "icon": "",
            "layout": "IPY_MODEL_04a35a2c95e34ad8b89e64cc27b6a199",
            "style": "IPY_MODEL_52b273f2d4c64a6ca28488f7cf12f23b",
            "tooltip": ""
          }
        },
        "810cb9eca1f54c328736f67e0c0eb04c": {
          "model_module": "@jupyter-widgets/controls",
          "model_name": "HTMLModel",
          "model_module_version": "1.5.0",
          "state": {
            "_dom_classes": [],
            "_model_module": "@jupyter-widgets/controls",
            "_model_module_version": "1.5.0",
            "_model_name": "HTMLModel",
            "_view_count": null,
            "_view_module": "@jupyter-widgets/controls",
            "_view_module_version": "1.5.0",
            "_view_name": "HTMLView",
            "description": "",
            "description_tooltip": null,
            "layout": "IPY_MODEL_762ba59e7dc6455187ce6be80e2c1aec",
            "placeholder": "​",
            "style": "IPY_MODEL_75cb1da20df34eecb615f78cab44a26e",
            "value": "\n<b>Pro Tip:</b> If you don't already have one, you can create a dedicated\n'notebooks' token with 'write' access, that you can then easily reuse for all\nnotebooks. </center>"
          }
        },
        "f0ed3c345c2e4094aa432f464749b009": {
          "model_module": "@jupyter-widgets/base",
          "model_name": "LayoutModel",
          "model_module_version": "1.2.0",
          "state": {
            "_model_module": "@jupyter-widgets/base",
            "_model_module_version": "1.2.0",
            "_model_name": "LayoutModel",
            "_view_count": null,
            "_view_module": "@jupyter-widgets/base",
            "_view_module_version": "1.2.0",
            "_view_name": "LayoutView",
            "align_content": null,
            "align_items": "center",
            "align_self": null,
            "border": null,
            "bottom": null,
            "display": "flex",
            "flex": null,
            "flex_flow": "column",
            "grid_area": null,
            "grid_auto_columns": null,
            "grid_auto_flow": null,
            "grid_auto_rows": null,
            "grid_column": null,
            "grid_gap": null,
            "grid_row": null,
            "grid_template_areas": null,
            "grid_template_columns": null,
            "grid_template_rows": null,
            "height": null,
            "justify_content": null,
            "justify_items": null,
            "left": null,
            "margin": null,
            "max_height": null,
            "max_width": null,
            "min_height": null,
            "min_width": null,
            "object_fit": null,
            "object_position": null,
            "order": null,
            "overflow": null,
            "overflow_x": null,
            "overflow_y": null,
            "padding": null,
            "right": null,
            "top": null,
            "visibility": null,
            "width": "50%"
          }
        },
        "8af1c38df6a545179ccbb0bcbcbcdd52": {
          "model_module": "@jupyter-widgets/base",
          "model_name": "LayoutModel",
          "model_module_version": "1.2.0",
          "state": {
            "_model_module": "@jupyter-widgets/base",
            "_model_module_version": "1.2.0",
            "_model_name": "LayoutModel",
            "_view_count": null,
            "_view_module": "@jupyter-widgets/base",
            "_view_module_version": "1.2.0",
            "_view_name": "LayoutView",
            "align_content": null,
            "align_items": null,
            "align_self": null,
            "border": null,
            "bottom": null,
            "display": null,
            "flex": null,
            "flex_flow": null,
            "grid_area": null,
            "grid_auto_columns": null,
            "grid_auto_flow": null,
            "grid_auto_rows": null,
            "grid_column": null,
            "grid_gap": null,
            "grid_row": null,
            "grid_template_areas": null,
            "grid_template_columns": null,
            "grid_template_rows": null,
            "height": null,
            "justify_content": null,
            "justify_items": null,
            "left": null,
            "margin": null,
            "max_height": null,
            "max_width": null,
            "min_height": null,
            "min_width": null,
            "object_fit": null,
            "object_position": null,
            "order": null,
            "overflow": null,
            "overflow_x": null,
            "overflow_y": null,
            "padding": null,
            "right": null,
            "top": null,
            "visibility": null,
            "width": null
          }
        },
        "f080bcb7811b4cf888d572b77480d077": {
          "model_module": "@jupyter-widgets/controls",
          "model_name": "DescriptionStyleModel",
          "model_module_version": "1.5.0",
          "state": {
            "_model_module": "@jupyter-widgets/controls",
            "_model_module_version": "1.5.0",
            "_model_name": "DescriptionStyleModel",
            "_view_count": null,
            "_view_module": "@jupyter-widgets/base",
            "_view_module_version": "1.2.0",
            "_view_name": "StyleView",
            "description_width": ""
          }
        },
        "331f32a4686c48dc9d8b120d1ae05324": {
          "model_module": "@jupyter-widgets/base",
          "model_name": "LayoutModel",
          "model_module_version": "1.2.0",
          "state": {
            "_model_module": "@jupyter-widgets/base",
            "_model_module_version": "1.2.0",
            "_model_name": "LayoutModel",
            "_view_count": null,
            "_view_module": "@jupyter-widgets/base",
            "_view_module_version": "1.2.0",
            "_view_name": "LayoutView",
            "align_content": null,
            "align_items": null,
            "align_self": null,
            "border": null,
            "bottom": null,
            "display": null,
            "flex": null,
            "flex_flow": null,
            "grid_area": null,
            "grid_auto_columns": null,
            "grid_auto_flow": null,
            "grid_auto_rows": null,
            "grid_column": null,
            "grid_gap": null,
            "grid_row": null,
            "grid_template_areas": null,
            "grid_template_columns": null,
            "grid_template_rows": null,
            "height": null,
            "justify_content": null,
            "justify_items": null,
            "left": null,
            "margin": null,
            "max_height": null,
            "max_width": null,
            "min_height": null,
            "min_width": null,
            "object_fit": null,
            "object_position": null,
            "order": null,
            "overflow": null,
            "overflow_x": null,
            "overflow_y": null,
            "padding": null,
            "right": null,
            "top": null,
            "visibility": null,
            "width": null
          }
        },
        "7f94d4a3d9944f8cb02194a3c4e948f3": {
          "model_module": "@jupyter-widgets/controls",
          "model_name": "DescriptionStyleModel",
          "model_module_version": "1.5.0",
          "state": {
            "_model_module": "@jupyter-widgets/controls",
            "_model_module_version": "1.5.0",
            "_model_name": "DescriptionStyleModel",
            "_view_count": null,
            "_view_module": "@jupyter-widgets/base",
            "_view_module_version": "1.2.0",
            "_view_name": "StyleView",
            "description_width": ""
          }
        },
        "72f5e4ab60e3490b882b3af3f8b8152b": {
          "model_module": "@jupyter-widgets/base",
          "model_name": "LayoutModel",
          "model_module_version": "1.2.0",
          "state": {
            "_model_module": "@jupyter-widgets/base",
            "_model_module_version": "1.2.0",
            "_model_name": "LayoutModel",
            "_view_count": null,
            "_view_module": "@jupyter-widgets/base",
            "_view_module_version": "1.2.0",
            "_view_name": "LayoutView",
            "align_content": null,
            "align_items": null,
            "align_self": null,
            "border": null,
            "bottom": null,
            "display": null,
            "flex": null,
            "flex_flow": null,
            "grid_area": null,
            "grid_auto_columns": null,
            "grid_auto_flow": null,
            "grid_auto_rows": null,
            "grid_column": null,
            "grid_gap": null,
            "grid_row": null,
            "grid_template_areas": null,
            "grid_template_columns": null,
            "grid_template_rows": null,
            "height": null,
            "justify_content": null,
            "justify_items": null,
            "left": null,
            "margin": null,
            "max_height": null,
            "max_width": null,
            "min_height": null,
            "min_width": null,
            "object_fit": null,
            "object_position": null,
            "order": null,
            "overflow": null,
            "overflow_x": null,
            "overflow_y": null,
            "padding": null,
            "right": null,
            "top": null,
            "visibility": null,
            "width": null
          }
        },
        "9ca1ea540e844b5a92a5e37286b5e126": {
          "model_module": "@jupyter-widgets/controls",
          "model_name": "DescriptionStyleModel",
          "model_module_version": "1.5.0",
          "state": {
            "_model_module": "@jupyter-widgets/controls",
            "_model_module_version": "1.5.0",
            "_model_name": "DescriptionStyleModel",
            "_view_count": null,
            "_view_module": "@jupyter-widgets/base",
            "_view_module_version": "1.2.0",
            "_view_name": "StyleView",
            "description_width": ""
          }
        },
        "04a35a2c95e34ad8b89e64cc27b6a199": {
          "model_module": "@jupyter-widgets/base",
          "model_name": "LayoutModel",
          "model_module_version": "1.2.0",
          "state": {
            "_model_module": "@jupyter-widgets/base",
            "_model_module_version": "1.2.0",
            "_model_name": "LayoutModel",
            "_view_count": null,
            "_view_module": "@jupyter-widgets/base",
            "_view_module_version": "1.2.0",
            "_view_name": "LayoutView",
            "align_content": null,
            "align_items": null,
            "align_self": null,
            "border": null,
            "bottom": null,
            "display": null,
            "flex": null,
            "flex_flow": null,
            "grid_area": null,
            "grid_auto_columns": null,
            "grid_auto_flow": null,
            "grid_auto_rows": null,
            "grid_column": null,
            "grid_gap": null,
            "grid_row": null,
            "grid_template_areas": null,
            "grid_template_columns": null,
            "grid_template_rows": null,
            "height": null,
            "justify_content": null,
            "justify_items": null,
            "left": null,
            "margin": null,
            "max_height": null,
            "max_width": null,
            "min_height": null,
            "min_width": null,
            "object_fit": null,
            "object_position": null,
            "order": null,
            "overflow": null,
            "overflow_x": null,
            "overflow_y": null,
            "padding": null,
            "right": null,
            "top": null,
            "visibility": null,
            "width": null
          }
        },
        "52b273f2d4c64a6ca28488f7cf12f23b": {
          "model_module": "@jupyter-widgets/controls",
          "model_name": "ButtonStyleModel",
          "model_module_version": "1.5.0",
          "state": {
            "_model_module": "@jupyter-widgets/controls",
            "_model_module_version": "1.5.0",
            "_model_name": "ButtonStyleModel",
            "_view_count": null,
            "_view_module": "@jupyter-widgets/base",
            "_view_module_version": "1.2.0",
            "_view_name": "StyleView",
            "button_color": null,
            "font_weight": ""
          }
        },
        "762ba59e7dc6455187ce6be80e2c1aec": {
          "model_module": "@jupyter-widgets/base",
          "model_name": "LayoutModel",
          "model_module_version": "1.2.0",
          "state": {
            "_model_module": "@jupyter-widgets/base",
            "_model_module_version": "1.2.0",
            "_model_name": "LayoutModel",
            "_view_count": null,
            "_view_module": "@jupyter-widgets/base",
            "_view_module_version": "1.2.0",
            "_view_name": "LayoutView",
            "align_content": null,
            "align_items": null,
            "align_self": null,
            "border": null,
            "bottom": null,
            "display": null,
            "flex": null,
            "flex_flow": null,
            "grid_area": null,
            "grid_auto_columns": null,
            "grid_auto_flow": null,
            "grid_auto_rows": null,
            "grid_column": null,
            "grid_gap": null,
            "grid_row": null,
            "grid_template_areas": null,
            "grid_template_columns": null,
            "grid_template_rows": null,
            "height": null,
            "justify_content": null,
            "justify_items": null,
            "left": null,
            "margin": null,
            "max_height": null,
            "max_width": null,
            "min_height": null,
            "min_width": null,
            "object_fit": null,
            "object_position": null,
            "order": null,
            "overflow": null,
            "overflow_x": null,
            "overflow_y": null,
            "padding": null,
            "right": null,
            "top": null,
            "visibility": null,
            "width": null
          }
        },
        "75cb1da20df34eecb615f78cab44a26e": {
          "model_module": "@jupyter-widgets/controls",
          "model_name": "DescriptionStyleModel",
          "model_module_version": "1.5.0",
          "state": {
            "_model_module": "@jupyter-widgets/controls",
            "_model_module_version": "1.5.0",
            "_model_name": "DescriptionStyleModel",
            "_view_count": null,
            "_view_module": "@jupyter-widgets/base",
            "_view_module_version": "1.2.0",
            "_view_name": "StyleView",
            "description_width": ""
          }
        },
        "09d3b69dc8034e69b62ecf8e7fecfb6c": {
          "model_module": "@jupyter-widgets/controls",
          "model_name": "HBoxModel",
          "model_module_version": "1.5.0",
          "state": {
            "_dom_classes": [],
            "_model_module": "@jupyter-widgets/controls",
            "_model_module_version": "1.5.0",
            "_model_name": "HBoxModel",
            "_view_count": null,
            "_view_module": "@jupyter-widgets/controls",
            "_view_module_version": "1.5.0",
            "_view_name": "HBoxView",
            "box_style": "",
            "children": [
              "IPY_MODEL_362cf91a9a5d40e696be4839631d4570",
              "IPY_MODEL_b3fdd29055f84daf8ac70199d628e6a0",
              "IPY_MODEL_78120e149b894eceb702cc9b62428d1e"
            ],
            "layout": "IPY_MODEL_36f46e72381b445aa8e83501783fde10"
          }
        },
        "362cf91a9a5d40e696be4839631d4570": {
          "model_module": "@jupyter-widgets/controls",
          "model_name": "HTMLModel",
          "model_module_version": "1.5.0",
          "state": {
            "_dom_classes": [],
            "_model_module": "@jupyter-widgets/controls",
            "_model_module_version": "1.5.0",
            "_model_name": "HTMLModel",
            "_view_count": null,
            "_view_module": "@jupyter-widgets/controls",
            "_view_module_version": "1.5.0",
            "_view_name": "HTMLView",
            "description": "",
            "description_tooltip": null,
            "layout": "IPY_MODEL_7e91a36324654cb4a52a909e6ace6d8e",
            "placeholder": "​",
            "style": "IPY_MODEL_93e226d99ef8422599f44dab5b49ca34",
            "value": "Map: 100%"
          }
        },
        "b3fdd29055f84daf8ac70199d628e6a0": {
          "model_module": "@jupyter-widgets/controls",
          "model_name": "FloatProgressModel",
          "model_module_version": "1.5.0",
          "state": {
            "_dom_classes": [],
            "_model_module": "@jupyter-widgets/controls",
            "_model_module_version": "1.5.0",
            "_model_name": "FloatProgressModel",
            "_view_count": null,
            "_view_module": "@jupyter-widgets/controls",
            "_view_module_version": "1.5.0",
            "_view_name": "ProgressView",
            "bar_style": "success",
            "description": "",
            "description_tooltip": null,
            "layout": "IPY_MODEL_8d06b7678a1144bcb32a55e45d7dcb54",
            "max": 7199,
            "min": 0,
            "orientation": "horizontal",
            "style": "IPY_MODEL_f65f9bf26ad54c5ca22554f30ae8d7a1",
            "value": 7199
          }
        },
        "78120e149b894eceb702cc9b62428d1e": {
          "model_module": "@jupyter-widgets/controls",
          "model_name": "HTMLModel",
          "model_module_version": "1.5.0",
          "state": {
            "_dom_classes": [],
            "_model_module": "@jupyter-widgets/controls",
            "_model_module_version": "1.5.0",
            "_model_name": "HTMLModel",
            "_view_count": null,
            "_view_module": "@jupyter-widgets/controls",
            "_view_module_version": "1.5.0",
            "_view_name": "HTMLView",
            "description": "",
            "description_tooltip": null,
            "layout": "IPY_MODEL_827632f5d2844b638a836277fe76f553",
            "placeholder": "​",
            "style": "IPY_MODEL_14bb280af8c448bb9f4a2e8a7f7dec20",
            "value": " 7199/7199 [00:02&lt;00:00, 3576.51 examples/s]"
          }
        },
        "36f46e72381b445aa8e83501783fde10": {
          "model_module": "@jupyter-widgets/base",
          "model_name": "LayoutModel",
          "model_module_version": "1.2.0",
          "state": {
            "_model_module": "@jupyter-widgets/base",
            "_model_module_version": "1.2.0",
            "_model_name": "LayoutModel",
            "_view_count": null,
            "_view_module": "@jupyter-widgets/base",
            "_view_module_version": "1.2.0",
            "_view_name": "LayoutView",
            "align_content": null,
            "align_items": null,
            "align_self": null,
            "border": null,
            "bottom": null,
            "display": null,
            "flex": null,
            "flex_flow": null,
            "grid_area": null,
            "grid_auto_columns": null,
            "grid_auto_flow": null,
            "grid_auto_rows": null,
            "grid_column": null,
            "grid_gap": null,
            "grid_row": null,
            "grid_template_areas": null,
            "grid_template_columns": null,
            "grid_template_rows": null,
            "height": null,
            "justify_content": null,
            "justify_items": null,
            "left": null,
            "margin": null,
            "max_height": null,
            "max_width": null,
            "min_height": null,
            "min_width": null,
            "object_fit": null,
            "object_position": null,
            "order": null,
            "overflow": null,
            "overflow_x": null,
            "overflow_y": null,
            "padding": null,
            "right": null,
            "top": null,
            "visibility": null,
            "width": null
          }
        },
        "7e91a36324654cb4a52a909e6ace6d8e": {
          "model_module": "@jupyter-widgets/base",
          "model_name": "LayoutModel",
          "model_module_version": "1.2.0",
          "state": {
            "_model_module": "@jupyter-widgets/base",
            "_model_module_version": "1.2.0",
            "_model_name": "LayoutModel",
            "_view_count": null,
            "_view_module": "@jupyter-widgets/base",
            "_view_module_version": "1.2.0",
            "_view_name": "LayoutView",
            "align_content": null,
            "align_items": null,
            "align_self": null,
            "border": null,
            "bottom": null,
            "display": null,
            "flex": null,
            "flex_flow": null,
            "grid_area": null,
            "grid_auto_columns": null,
            "grid_auto_flow": null,
            "grid_auto_rows": null,
            "grid_column": null,
            "grid_gap": null,
            "grid_row": null,
            "grid_template_areas": null,
            "grid_template_columns": null,
            "grid_template_rows": null,
            "height": null,
            "justify_content": null,
            "justify_items": null,
            "left": null,
            "margin": null,
            "max_height": null,
            "max_width": null,
            "min_height": null,
            "min_width": null,
            "object_fit": null,
            "object_position": null,
            "order": null,
            "overflow": null,
            "overflow_x": null,
            "overflow_y": null,
            "padding": null,
            "right": null,
            "top": null,
            "visibility": null,
            "width": null
          }
        },
        "93e226d99ef8422599f44dab5b49ca34": {
          "model_module": "@jupyter-widgets/controls",
          "model_name": "DescriptionStyleModel",
          "model_module_version": "1.5.0",
          "state": {
            "_model_module": "@jupyter-widgets/controls",
            "_model_module_version": "1.5.0",
            "_model_name": "DescriptionStyleModel",
            "_view_count": null,
            "_view_module": "@jupyter-widgets/base",
            "_view_module_version": "1.2.0",
            "_view_name": "StyleView",
            "description_width": ""
          }
        },
        "8d06b7678a1144bcb32a55e45d7dcb54": {
          "model_module": "@jupyter-widgets/base",
          "model_name": "LayoutModel",
          "model_module_version": "1.2.0",
          "state": {
            "_model_module": "@jupyter-widgets/base",
            "_model_module_version": "1.2.0",
            "_model_name": "LayoutModel",
            "_view_count": null,
            "_view_module": "@jupyter-widgets/base",
            "_view_module_version": "1.2.0",
            "_view_name": "LayoutView",
            "align_content": null,
            "align_items": null,
            "align_self": null,
            "border": null,
            "bottom": null,
            "display": null,
            "flex": null,
            "flex_flow": null,
            "grid_area": null,
            "grid_auto_columns": null,
            "grid_auto_flow": null,
            "grid_auto_rows": null,
            "grid_column": null,
            "grid_gap": null,
            "grid_row": null,
            "grid_template_areas": null,
            "grid_template_columns": null,
            "grid_template_rows": null,
            "height": null,
            "justify_content": null,
            "justify_items": null,
            "left": null,
            "margin": null,
            "max_height": null,
            "max_width": null,
            "min_height": null,
            "min_width": null,
            "object_fit": null,
            "object_position": null,
            "order": null,
            "overflow": null,
            "overflow_x": null,
            "overflow_y": null,
            "padding": null,
            "right": null,
            "top": null,
            "visibility": null,
            "width": null
          }
        },
        "f65f9bf26ad54c5ca22554f30ae8d7a1": {
          "model_module": "@jupyter-widgets/controls",
          "model_name": "ProgressStyleModel",
          "model_module_version": "1.5.0",
          "state": {
            "_model_module": "@jupyter-widgets/controls",
            "_model_module_version": "1.5.0",
            "_model_name": "ProgressStyleModel",
            "_view_count": null,
            "_view_module": "@jupyter-widgets/base",
            "_view_module_version": "1.2.0",
            "_view_name": "StyleView",
            "bar_color": null,
            "description_width": ""
          }
        },
        "827632f5d2844b638a836277fe76f553": {
          "model_module": "@jupyter-widgets/base",
          "model_name": "LayoutModel",
          "model_module_version": "1.2.0",
          "state": {
            "_model_module": "@jupyter-widgets/base",
            "_model_module_version": "1.2.0",
            "_model_name": "LayoutModel",
            "_view_count": null,
            "_view_module": "@jupyter-widgets/base",
            "_view_module_version": "1.2.0",
            "_view_name": "LayoutView",
            "align_content": null,
            "align_items": null,
            "align_self": null,
            "border": null,
            "bottom": null,
            "display": null,
            "flex": null,
            "flex_flow": null,
            "grid_area": null,
            "grid_auto_columns": null,
            "grid_auto_flow": null,
            "grid_auto_rows": null,
            "grid_column": null,
            "grid_gap": null,
            "grid_row": null,
            "grid_template_areas": null,
            "grid_template_columns": null,
            "grid_template_rows": null,
            "height": null,
            "justify_content": null,
            "justify_items": null,
            "left": null,
            "margin": null,
            "max_height": null,
            "max_width": null,
            "min_height": null,
            "min_width": null,
            "object_fit": null,
            "object_position": null,
            "order": null,
            "overflow": null,
            "overflow_x": null,
            "overflow_y": null,
            "padding": null,
            "right": null,
            "top": null,
            "visibility": null,
            "width": null
          }
        },
        "14bb280af8c448bb9f4a2e8a7f7dec20": {
          "model_module": "@jupyter-widgets/controls",
          "model_name": "DescriptionStyleModel",
          "model_module_version": "1.5.0",
          "state": {
            "_model_module": "@jupyter-widgets/controls",
            "_model_module_version": "1.5.0",
            "_model_name": "DescriptionStyleModel",
            "_view_count": null,
            "_view_module": "@jupyter-widgets/base",
            "_view_module_version": "1.2.0",
            "_view_name": "StyleView",
            "description_width": ""
          }
        },
        "67317c44cfd04786bff4f5e8667f4231": {
          "model_module": "@jupyter-widgets/controls",
          "model_name": "HBoxModel",
          "model_module_version": "1.5.0",
          "state": {
            "_dom_classes": [],
            "_model_module": "@jupyter-widgets/controls",
            "_model_module_version": "1.5.0",
            "_model_name": "HBoxModel",
            "_view_count": null,
            "_view_module": "@jupyter-widgets/controls",
            "_view_module_version": "1.5.0",
            "_view_name": "HBoxView",
            "box_style": "",
            "children": [
              "IPY_MODEL_129964854b514f69a390e7af61e5d75a",
              "IPY_MODEL_72d1390fccdb47d499028c9bd61eaa33",
              "IPY_MODEL_a81e949db017481188f24e80dcebba2f"
            ],
            "layout": "IPY_MODEL_72be1555758e4bffb054812944fa9b82"
          }
        },
        "129964854b514f69a390e7af61e5d75a": {
          "model_module": "@jupyter-widgets/controls",
          "model_name": "HTMLModel",
          "model_module_version": "1.5.0",
          "state": {
            "_dom_classes": [],
            "_model_module": "@jupyter-widgets/controls",
            "_model_module_version": "1.5.0",
            "_model_name": "HTMLModel",
            "_view_count": null,
            "_view_module": "@jupyter-widgets/controls",
            "_view_module_version": "1.5.0",
            "_view_name": "HTMLView",
            "description": "",
            "description_tooltip": null,
            "layout": "IPY_MODEL_56c6979b17ae415bbb9a9d836d5ecc4f",
            "placeholder": "​",
            "style": "IPY_MODEL_fbbc017520e84f5290c3f6d89567a2cb",
            "value": "Map: 100%"
          }
        },
        "72d1390fccdb47d499028c9bd61eaa33": {
          "model_module": "@jupyter-widgets/controls",
          "model_name": "FloatProgressModel",
          "model_module_version": "1.5.0",
          "state": {
            "_dom_classes": [],
            "_model_module": "@jupyter-widgets/controls",
            "_model_module_version": "1.5.0",
            "_model_name": "FloatProgressModel",
            "_view_count": null,
            "_view_module": "@jupyter-widgets/controls",
            "_view_module_version": "1.5.0",
            "_view_name": "ProgressView",
            "bar_style": "success",
            "description": "",
            "description_tooltip": null,
            "layout": "IPY_MODEL_af6c645562504bc0851db90a92ed7f19",
            "max": 500,
            "min": 0,
            "orientation": "horizontal",
            "style": "IPY_MODEL_7ec08c6e87724c8b8ab0034e16d65ec0",
            "value": 500
          }
        },
        "a81e949db017481188f24e80dcebba2f": {
          "model_module": "@jupyter-widgets/controls",
          "model_name": "HTMLModel",
          "model_module_version": "1.5.0",
          "state": {
            "_dom_classes": [],
            "_model_module": "@jupyter-widgets/controls",
            "_model_module_version": "1.5.0",
            "_model_name": "HTMLModel",
            "_view_count": null,
            "_view_module": "@jupyter-widgets/controls",
            "_view_module_version": "1.5.0",
            "_view_name": "HTMLView",
            "description": "",
            "description_tooltip": null,
            "layout": "IPY_MODEL_991361468d5c4be49ef0801aa2184aae",
            "placeholder": "​",
            "style": "IPY_MODEL_d249d6f0727f4fdaaa55df6599cd9890",
            "value": " 500/500 [00:00&lt;00:00, 2973.34 examples/s]"
          }
        },
        "72be1555758e4bffb054812944fa9b82": {
          "model_module": "@jupyter-widgets/base",
          "model_name": "LayoutModel",
          "model_module_version": "1.2.0",
          "state": {
            "_model_module": "@jupyter-widgets/base",
            "_model_module_version": "1.2.0",
            "_model_name": "LayoutModel",
            "_view_count": null,
            "_view_module": "@jupyter-widgets/base",
            "_view_module_version": "1.2.0",
            "_view_name": "LayoutView",
            "align_content": null,
            "align_items": null,
            "align_self": null,
            "border": null,
            "bottom": null,
            "display": null,
            "flex": null,
            "flex_flow": null,
            "grid_area": null,
            "grid_auto_columns": null,
            "grid_auto_flow": null,
            "grid_auto_rows": null,
            "grid_column": null,
            "grid_gap": null,
            "grid_row": null,
            "grid_template_areas": null,
            "grid_template_columns": null,
            "grid_template_rows": null,
            "height": null,
            "justify_content": null,
            "justify_items": null,
            "left": null,
            "margin": null,
            "max_height": null,
            "max_width": null,
            "min_height": null,
            "min_width": null,
            "object_fit": null,
            "object_position": null,
            "order": null,
            "overflow": null,
            "overflow_x": null,
            "overflow_y": null,
            "padding": null,
            "right": null,
            "top": null,
            "visibility": null,
            "width": null
          }
        },
        "56c6979b17ae415bbb9a9d836d5ecc4f": {
          "model_module": "@jupyter-widgets/base",
          "model_name": "LayoutModel",
          "model_module_version": "1.2.0",
          "state": {
            "_model_module": "@jupyter-widgets/base",
            "_model_module_version": "1.2.0",
            "_model_name": "LayoutModel",
            "_view_count": null,
            "_view_module": "@jupyter-widgets/base",
            "_view_module_version": "1.2.0",
            "_view_name": "LayoutView",
            "align_content": null,
            "align_items": null,
            "align_self": null,
            "border": null,
            "bottom": null,
            "display": null,
            "flex": null,
            "flex_flow": null,
            "grid_area": null,
            "grid_auto_columns": null,
            "grid_auto_flow": null,
            "grid_auto_rows": null,
            "grid_column": null,
            "grid_gap": null,
            "grid_row": null,
            "grid_template_areas": null,
            "grid_template_columns": null,
            "grid_template_rows": null,
            "height": null,
            "justify_content": null,
            "justify_items": null,
            "left": null,
            "margin": null,
            "max_height": null,
            "max_width": null,
            "min_height": null,
            "min_width": null,
            "object_fit": null,
            "object_position": null,
            "order": null,
            "overflow": null,
            "overflow_x": null,
            "overflow_y": null,
            "padding": null,
            "right": null,
            "top": null,
            "visibility": null,
            "width": null
          }
        },
        "fbbc017520e84f5290c3f6d89567a2cb": {
          "model_module": "@jupyter-widgets/controls",
          "model_name": "DescriptionStyleModel",
          "model_module_version": "1.5.0",
          "state": {
            "_model_module": "@jupyter-widgets/controls",
            "_model_module_version": "1.5.0",
            "_model_name": "DescriptionStyleModel",
            "_view_count": null,
            "_view_module": "@jupyter-widgets/base",
            "_view_module_version": "1.2.0",
            "_view_name": "StyleView",
            "description_width": ""
          }
        },
        "af6c645562504bc0851db90a92ed7f19": {
          "model_module": "@jupyter-widgets/base",
          "model_name": "LayoutModel",
          "model_module_version": "1.2.0",
          "state": {
            "_model_module": "@jupyter-widgets/base",
            "_model_module_version": "1.2.0",
            "_model_name": "LayoutModel",
            "_view_count": null,
            "_view_module": "@jupyter-widgets/base",
            "_view_module_version": "1.2.0",
            "_view_name": "LayoutView",
            "align_content": null,
            "align_items": null,
            "align_self": null,
            "border": null,
            "bottom": null,
            "display": null,
            "flex": null,
            "flex_flow": null,
            "grid_area": null,
            "grid_auto_columns": null,
            "grid_auto_flow": null,
            "grid_auto_rows": null,
            "grid_column": null,
            "grid_gap": null,
            "grid_row": null,
            "grid_template_areas": null,
            "grid_template_columns": null,
            "grid_template_rows": null,
            "height": null,
            "justify_content": null,
            "justify_items": null,
            "left": null,
            "margin": null,
            "max_height": null,
            "max_width": null,
            "min_height": null,
            "min_width": null,
            "object_fit": null,
            "object_position": null,
            "order": null,
            "overflow": null,
            "overflow_x": null,
            "overflow_y": null,
            "padding": null,
            "right": null,
            "top": null,
            "visibility": null,
            "width": null
          }
        },
        "7ec08c6e87724c8b8ab0034e16d65ec0": {
          "model_module": "@jupyter-widgets/controls",
          "model_name": "ProgressStyleModel",
          "model_module_version": "1.5.0",
          "state": {
            "_model_module": "@jupyter-widgets/controls",
            "_model_module_version": "1.5.0",
            "_model_name": "ProgressStyleModel",
            "_view_count": null,
            "_view_module": "@jupyter-widgets/base",
            "_view_module_version": "1.2.0",
            "_view_name": "StyleView",
            "bar_color": null,
            "description_width": ""
          }
        },
        "991361468d5c4be49ef0801aa2184aae": {
          "model_module": "@jupyter-widgets/base",
          "model_name": "LayoutModel",
          "model_module_version": "1.2.0",
          "state": {
            "_model_module": "@jupyter-widgets/base",
            "_model_module_version": "1.2.0",
            "_model_name": "LayoutModel",
            "_view_count": null,
            "_view_module": "@jupyter-widgets/base",
            "_view_module_version": "1.2.0",
            "_view_name": "LayoutView",
            "align_content": null,
            "align_items": null,
            "align_self": null,
            "border": null,
            "bottom": null,
            "display": null,
            "flex": null,
            "flex_flow": null,
            "grid_area": null,
            "grid_auto_columns": null,
            "grid_auto_flow": null,
            "grid_auto_rows": null,
            "grid_column": null,
            "grid_gap": null,
            "grid_row": null,
            "grid_template_areas": null,
            "grid_template_columns": null,
            "grid_template_rows": null,
            "height": null,
            "justify_content": null,
            "justify_items": null,
            "left": null,
            "margin": null,
            "max_height": null,
            "max_width": null,
            "min_height": null,
            "min_width": null,
            "object_fit": null,
            "object_position": null,
            "order": null,
            "overflow": null,
            "overflow_x": null,
            "overflow_y": null,
            "padding": null,
            "right": null,
            "top": null,
            "visibility": null,
            "width": null
          }
        },
        "d249d6f0727f4fdaaa55df6599cd9890": {
          "model_module": "@jupyter-widgets/controls",
          "model_name": "DescriptionStyleModel",
          "model_module_version": "1.5.0",
          "state": {
            "_model_module": "@jupyter-widgets/controls",
            "_model_module_version": "1.5.0",
            "_model_name": "DescriptionStyleModel",
            "_view_count": null,
            "_view_module": "@jupyter-widgets/base",
            "_view_module_version": "1.2.0",
            "_view_name": "StyleView",
            "description_width": ""
          }
        },
        "c163db52693142a086694030a9dc1b0d": {
          "model_module": "@jupyter-widgets/controls",
          "model_name": "HBoxModel",
          "model_module_version": "1.5.0",
          "state": {
            "_dom_classes": [],
            "_model_module": "@jupyter-widgets/controls",
            "_model_module_version": "1.5.0",
            "_model_name": "HBoxModel",
            "_view_count": null,
            "_view_module": "@jupyter-widgets/controls",
            "_view_module_version": "1.5.0",
            "_view_name": "HBoxView",
            "box_style": "",
            "children": [
              "IPY_MODEL_4de83fbc50be4914a72e7e45f075dbb6",
              "IPY_MODEL_d472d7adbbf644fb9fec3ec05ab151a5",
              "IPY_MODEL_5a763978536f432fb609eb4bf2efa841"
            ],
            "layout": "IPY_MODEL_dd3058a5aafb440fb7e12cfb27e38aef"
          }
        },
        "4de83fbc50be4914a72e7e45f075dbb6": {
          "model_module": "@jupyter-widgets/controls",
          "model_name": "HTMLModel",
          "model_module_version": "1.5.0",
          "state": {
            "_dom_classes": [],
            "_model_module": "@jupyter-widgets/controls",
            "_model_module_version": "1.5.0",
            "_model_name": "HTMLModel",
            "_view_count": null,
            "_view_module": "@jupyter-widgets/controls",
            "_view_module_version": "1.5.0",
            "_view_name": "HTMLView",
            "description": "",
            "description_tooltip": null,
            "layout": "IPY_MODEL_b6d3c111485943a3b05db84c3e41787b",
            "placeholder": "​",
            "style": "IPY_MODEL_646080005f014c5d99d87a0e894ea312",
            "value": "tokenizer_config.json: 100%"
          }
        },
        "d472d7adbbf644fb9fec3ec05ab151a5": {
          "model_module": "@jupyter-widgets/controls",
          "model_name": "FloatProgressModel",
          "model_module_version": "1.5.0",
          "state": {
            "_dom_classes": [],
            "_model_module": "@jupyter-widgets/controls",
            "_model_module_version": "1.5.0",
            "_model_name": "FloatProgressModel",
            "_view_count": null,
            "_view_module": "@jupyter-widgets/controls",
            "_view_module_version": "1.5.0",
            "_view_name": "ProgressView",
            "bar_style": "success",
            "description": "",
            "description_tooltip": null,
            "layout": "IPY_MODEL_04eb71dc91ad43cc840007fbd69574aa",
            "max": 49,
            "min": 0,
            "orientation": "horizontal",
            "style": "IPY_MODEL_49f841b8297d483ead24af9236555766",
            "value": 49
          }
        },
        "5a763978536f432fb609eb4bf2efa841": {
          "model_module": "@jupyter-widgets/controls",
          "model_name": "HTMLModel",
          "model_module_version": "1.5.0",
          "state": {
            "_dom_classes": [],
            "_model_module": "@jupyter-widgets/controls",
            "_model_module_version": "1.5.0",
            "_model_name": "HTMLModel",
            "_view_count": null,
            "_view_module": "@jupyter-widgets/controls",
            "_view_module_version": "1.5.0",
            "_view_name": "HTMLView",
            "description": "",
            "description_tooltip": null,
            "layout": "IPY_MODEL_efccb2985a0d416793aa36f68ff0449a",
            "placeholder": "​",
            "style": "IPY_MODEL_5ca16d9e412a4a01949d3a98d03f5f02",
            "value": " 49.0/49.0 [00:00&lt;00:00, 2.19kB/s]"
          }
        },
        "dd3058a5aafb440fb7e12cfb27e38aef": {
          "model_module": "@jupyter-widgets/base",
          "model_name": "LayoutModel",
          "model_module_version": "1.2.0",
          "state": {
            "_model_module": "@jupyter-widgets/base",
            "_model_module_version": "1.2.0",
            "_model_name": "LayoutModel",
            "_view_count": null,
            "_view_module": "@jupyter-widgets/base",
            "_view_module_version": "1.2.0",
            "_view_name": "LayoutView",
            "align_content": null,
            "align_items": null,
            "align_self": null,
            "border": null,
            "bottom": null,
            "display": null,
            "flex": null,
            "flex_flow": null,
            "grid_area": null,
            "grid_auto_columns": null,
            "grid_auto_flow": null,
            "grid_auto_rows": null,
            "grid_column": null,
            "grid_gap": null,
            "grid_row": null,
            "grid_template_areas": null,
            "grid_template_columns": null,
            "grid_template_rows": null,
            "height": null,
            "justify_content": null,
            "justify_items": null,
            "left": null,
            "margin": null,
            "max_height": null,
            "max_width": null,
            "min_height": null,
            "min_width": null,
            "object_fit": null,
            "object_position": null,
            "order": null,
            "overflow": null,
            "overflow_x": null,
            "overflow_y": null,
            "padding": null,
            "right": null,
            "top": null,
            "visibility": null,
            "width": null
          }
        },
        "b6d3c111485943a3b05db84c3e41787b": {
          "model_module": "@jupyter-widgets/base",
          "model_name": "LayoutModel",
          "model_module_version": "1.2.0",
          "state": {
            "_model_module": "@jupyter-widgets/base",
            "_model_module_version": "1.2.0",
            "_model_name": "LayoutModel",
            "_view_count": null,
            "_view_module": "@jupyter-widgets/base",
            "_view_module_version": "1.2.0",
            "_view_name": "LayoutView",
            "align_content": null,
            "align_items": null,
            "align_self": null,
            "border": null,
            "bottom": null,
            "display": null,
            "flex": null,
            "flex_flow": null,
            "grid_area": null,
            "grid_auto_columns": null,
            "grid_auto_flow": null,
            "grid_auto_rows": null,
            "grid_column": null,
            "grid_gap": null,
            "grid_row": null,
            "grid_template_areas": null,
            "grid_template_columns": null,
            "grid_template_rows": null,
            "height": null,
            "justify_content": null,
            "justify_items": null,
            "left": null,
            "margin": null,
            "max_height": null,
            "max_width": null,
            "min_height": null,
            "min_width": null,
            "object_fit": null,
            "object_position": null,
            "order": null,
            "overflow": null,
            "overflow_x": null,
            "overflow_y": null,
            "padding": null,
            "right": null,
            "top": null,
            "visibility": null,
            "width": null
          }
        },
        "646080005f014c5d99d87a0e894ea312": {
          "model_module": "@jupyter-widgets/controls",
          "model_name": "DescriptionStyleModel",
          "model_module_version": "1.5.0",
          "state": {
            "_model_module": "@jupyter-widgets/controls",
            "_model_module_version": "1.5.0",
            "_model_name": "DescriptionStyleModel",
            "_view_count": null,
            "_view_module": "@jupyter-widgets/base",
            "_view_module_version": "1.2.0",
            "_view_name": "StyleView",
            "description_width": ""
          }
        },
        "04eb71dc91ad43cc840007fbd69574aa": {
          "model_module": "@jupyter-widgets/base",
          "model_name": "LayoutModel",
          "model_module_version": "1.2.0",
          "state": {
            "_model_module": "@jupyter-widgets/base",
            "_model_module_version": "1.2.0",
            "_model_name": "LayoutModel",
            "_view_count": null,
            "_view_module": "@jupyter-widgets/base",
            "_view_module_version": "1.2.0",
            "_view_name": "LayoutView",
            "align_content": null,
            "align_items": null,
            "align_self": null,
            "border": null,
            "bottom": null,
            "display": null,
            "flex": null,
            "flex_flow": null,
            "grid_area": null,
            "grid_auto_columns": null,
            "grid_auto_flow": null,
            "grid_auto_rows": null,
            "grid_column": null,
            "grid_gap": null,
            "grid_row": null,
            "grid_template_areas": null,
            "grid_template_columns": null,
            "grid_template_rows": null,
            "height": null,
            "justify_content": null,
            "justify_items": null,
            "left": null,
            "margin": null,
            "max_height": null,
            "max_width": null,
            "min_height": null,
            "min_width": null,
            "object_fit": null,
            "object_position": null,
            "order": null,
            "overflow": null,
            "overflow_x": null,
            "overflow_y": null,
            "padding": null,
            "right": null,
            "top": null,
            "visibility": null,
            "width": null
          }
        },
        "49f841b8297d483ead24af9236555766": {
          "model_module": "@jupyter-widgets/controls",
          "model_name": "ProgressStyleModel",
          "model_module_version": "1.5.0",
          "state": {
            "_model_module": "@jupyter-widgets/controls",
            "_model_module_version": "1.5.0",
            "_model_name": "ProgressStyleModel",
            "_view_count": null,
            "_view_module": "@jupyter-widgets/base",
            "_view_module_version": "1.2.0",
            "_view_name": "StyleView",
            "bar_color": null,
            "description_width": ""
          }
        },
        "efccb2985a0d416793aa36f68ff0449a": {
          "model_module": "@jupyter-widgets/base",
          "model_name": "LayoutModel",
          "model_module_version": "1.2.0",
          "state": {
            "_model_module": "@jupyter-widgets/base",
            "_model_module_version": "1.2.0",
            "_model_name": "LayoutModel",
            "_view_count": null,
            "_view_module": "@jupyter-widgets/base",
            "_view_module_version": "1.2.0",
            "_view_name": "LayoutView",
            "align_content": null,
            "align_items": null,
            "align_self": null,
            "border": null,
            "bottom": null,
            "display": null,
            "flex": null,
            "flex_flow": null,
            "grid_area": null,
            "grid_auto_columns": null,
            "grid_auto_flow": null,
            "grid_auto_rows": null,
            "grid_column": null,
            "grid_gap": null,
            "grid_row": null,
            "grid_template_areas": null,
            "grid_template_columns": null,
            "grid_template_rows": null,
            "height": null,
            "justify_content": null,
            "justify_items": null,
            "left": null,
            "margin": null,
            "max_height": null,
            "max_width": null,
            "min_height": null,
            "min_width": null,
            "object_fit": null,
            "object_position": null,
            "order": null,
            "overflow": null,
            "overflow_x": null,
            "overflow_y": null,
            "padding": null,
            "right": null,
            "top": null,
            "visibility": null,
            "width": null
          }
        },
        "5ca16d9e412a4a01949d3a98d03f5f02": {
          "model_module": "@jupyter-widgets/controls",
          "model_name": "DescriptionStyleModel",
          "model_module_version": "1.5.0",
          "state": {
            "_model_module": "@jupyter-widgets/controls",
            "_model_module_version": "1.5.0",
            "_model_name": "DescriptionStyleModel",
            "_view_count": null,
            "_view_module": "@jupyter-widgets/base",
            "_view_module_version": "1.2.0",
            "_view_name": "StyleView",
            "description_width": ""
          }
        },
        "4f21693b2ba041ffb29a3654002084ec": {
          "model_module": "@jupyter-widgets/controls",
          "model_name": "HBoxModel",
          "model_module_version": "1.5.0",
          "state": {
            "_dom_classes": [],
            "_model_module": "@jupyter-widgets/controls",
            "_model_module_version": "1.5.0",
            "_model_name": "HBoxModel",
            "_view_count": null,
            "_view_module": "@jupyter-widgets/controls",
            "_view_module_version": "1.5.0",
            "_view_name": "HBoxView",
            "box_style": "",
            "children": [
              "IPY_MODEL_ece3bcdb687b43df8509b6092e3b9cef",
              "IPY_MODEL_c686756a888b4736976876005b57b219",
              "IPY_MODEL_0d240d8daef24436864f1bcbd13fe00e"
            ],
            "layout": "IPY_MODEL_96ea4ca5e43b4fd8b9a320cef85803e7"
          }
        },
        "ece3bcdb687b43df8509b6092e3b9cef": {
          "model_module": "@jupyter-widgets/controls",
          "model_name": "HTMLModel",
          "model_module_version": "1.5.0",
          "state": {
            "_dom_classes": [],
            "_model_module": "@jupyter-widgets/controls",
            "_model_module_version": "1.5.0",
            "_model_name": "HTMLModel",
            "_view_count": null,
            "_view_module": "@jupyter-widgets/controls",
            "_view_module_version": "1.5.0",
            "_view_name": "HTMLView",
            "description": "",
            "description_tooltip": null,
            "layout": "IPY_MODEL_8ceacd302def4d20a2ccbb4572dc053f",
            "placeholder": "​",
            "style": "IPY_MODEL_9f6d31ddc50e491fbcdbefeaf9341248",
            "value": "config.json: 100%"
          }
        },
        "c686756a888b4736976876005b57b219": {
          "model_module": "@jupyter-widgets/controls",
          "model_name": "FloatProgressModel",
          "model_module_version": "1.5.0",
          "state": {
            "_dom_classes": [],
            "_model_module": "@jupyter-widgets/controls",
            "_model_module_version": "1.5.0",
            "_model_name": "FloatProgressModel",
            "_view_count": null,
            "_view_module": "@jupyter-widgets/controls",
            "_view_module_version": "1.5.0",
            "_view_name": "ProgressView",
            "bar_style": "success",
            "description": "",
            "description_tooltip": null,
            "layout": "IPY_MODEL_14ce141e3be84741b076a1f2be1278c1",
            "max": 570,
            "min": 0,
            "orientation": "horizontal",
            "style": "IPY_MODEL_a6b2254dc21b4083aede3e87725e8e61",
            "value": 570
          }
        },
        "0d240d8daef24436864f1bcbd13fe00e": {
          "model_module": "@jupyter-widgets/controls",
          "model_name": "HTMLModel",
          "model_module_version": "1.5.0",
          "state": {
            "_dom_classes": [],
            "_model_module": "@jupyter-widgets/controls",
            "_model_module_version": "1.5.0",
            "_model_name": "HTMLModel",
            "_view_count": null,
            "_view_module": "@jupyter-widgets/controls",
            "_view_module_version": "1.5.0",
            "_view_name": "HTMLView",
            "description": "",
            "description_tooltip": null,
            "layout": "IPY_MODEL_25995a2fb373451d9d3a98f5c0bf6490",
            "placeholder": "​",
            "style": "IPY_MODEL_3ddb8074299e4d4e843098af9f55cdf9",
            "value": " 570/570 [00:00&lt;00:00, 18.3kB/s]"
          }
        },
        "96ea4ca5e43b4fd8b9a320cef85803e7": {
          "model_module": "@jupyter-widgets/base",
          "model_name": "LayoutModel",
          "model_module_version": "1.2.0",
          "state": {
            "_model_module": "@jupyter-widgets/base",
            "_model_module_version": "1.2.0",
            "_model_name": "LayoutModel",
            "_view_count": null,
            "_view_module": "@jupyter-widgets/base",
            "_view_module_version": "1.2.0",
            "_view_name": "LayoutView",
            "align_content": null,
            "align_items": null,
            "align_self": null,
            "border": null,
            "bottom": null,
            "display": null,
            "flex": null,
            "flex_flow": null,
            "grid_area": null,
            "grid_auto_columns": null,
            "grid_auto_flow": null,
            "grid_auto_rows": null,
            "grid_column": null,
            "grid_gap": null,
            "grid_row": null,
            "grid_template_areas": null,
            "grid_template_columns": null,
            "grid_template_rows": null,
            "height": null,
            "justify_content": null,
            "justify_items": null,
            "left": null,
            "margin": null,
            "max_height": null,
            "max_width": null,
            "min_height": null,
            "min_width": null,
            "object_fit": null,
            "object_position": null,
            "order": null,
            "overflow": null,
            "overflow_x": null,
            "overflow_y": null,
            "padding": null,
            "right": null,
            "top": null,
            "visibility": null,
            "width": null
          }
        },
        "8ceacd302def4d20a2ccbb4572dc053f": {
          "model_module": "@jupyter-widgets/base",
          "model_name": "LayoutModel",
          "model_module_version": "1.2.0",
          "state": {
            "_model_module": "@jupyter-widgets/base",
            "_model_module_version": "1.2.0",
            "_model_name": "LayoutModel",
            "_view_count": null,
            "_view_module": "@jupyter-widgets/base",
            "_view_module_version": "1.2.0",
            "_view_name": "LayoutView",
            "align_content": null,
            "align_items": null,
            "align_self": null,
            "border": null,
            "bottom": null,
            "display": null,
            "flex": null,
            "flex_flow": null,
            "grid_area": null,
            "grid_auto_columns": null,
            "grid_auto_flow": null,
            "grid_auto_rows": null,
            "grid_column": null,
            "grid_gap": null,
            "grid_row": null,
            "grid_template_areas": null,
            "grid_template_columns": null,
            "grid_template_rows": null,
            "height": null,
            "justify_content": null,
            "justify_items": null,
            "left": null,
            "margin": null,
            "max_height": null,
            "max_width": null,
            "min_height": null,
            "min_width": null,
            "object_fit": null,
            "object_position": null,
            "order": null,
            "overflow": null,
            "overflow_x": null,
            "overflow_y": null,
            "padding": null,
            "right": null,
            "top": null,
            "visibility": null,
            "width": null
          }
        },
        "9f6d31ddc50e491fbcdbefeaf9341248": {
          "model_module": "@jupyter-widgets/controls",
          "model_name": "DescriptionStyleModel",
          "model_module_version": "1.5.0",
          "state": {
            "_model_module": "@jupyter-widgets/controls",
            "_model_module_version": "1.5.0",
            "_model_name": "DescriptionStyleModel",
            "_view_count": null,
            "_view_module": "@jupyter-widgets/base",
            "_view_module_version": "1.2.0",
            "_view_name": "StyleView",
            "description_width": ""
          }
        },
        "14ce141e3be84741b076a1f2be1278c1": {
          "model_module": "@jupyter-widgets/base",
          "model_name": "LayoutModel",
          "model_module_version": "1.2.0",
          "state": {
            "_model_module": "@jupyter-widgets/base",
            "_model_module_version": "1.2.0",
            "_model_name": "LayoutModel",
            "_view_count": null,
            "_view_module": "@jupyter-widgets/base",
            "_view_module_version": "1.2.0",
            "_view_name": "LayoutView",
            "align_content": null,
            "align_items": null,
            "align_self": null,
            "border": null,
            "bottom": null,
            "display": null,
            "flex": null,
            "flex_flow": null,
            "grid_area": null,
            "grid_auto_columns": null,
            "grid_auto_flow": null,
            "grid_auto_rows": null,
            "grid_column": null,
            "grid_gap": null,
            "grid_row": null,
            "grid_template_areas": null,
            "grid_template_columns": null,
            "grid_template_rows": null,
            "height": null,
            "justify_content": null,
            "justify_items": null,
            "left": null,
            "margin": null,
            "max_height": null,
            "max_width": null,
            "min_height": null,
            "min_width": null,
            "object_fit": null,
            "object_position": null,
            "order": null,
            "overflow": null,
            "overflow_x": null,
            "overflow_y": null,
            "padding": null,
            "right": null,
            "top": null,
            "visibility": null,
            "width": null
          }
        },
        "a6b2254dc21b4083aede3e87725e8e61": {
          "model_module": "@jupyter-widgets/controls",
          "model_name": "ProgressStyleModel",
          "model_module_version": "1.5.0",
          "state": {
            "_model_module": "@jupyter-widgets/controls",
            "_model_module_version": "1.5.0",
            "_model_name": "ProgressStyleModel",
            "_view_count": null,
            "_view_module": "@jupyter-widgets/base",
            "_view_module_version": "1.2.0",
            "_view_name": "StyleView",
            "bar_color": null,
            "description_width": ""
          }
        },
        "25995a2fb373451d9d3a98f5c0bf6490": {
          "model_module": "@jupyter-widgets/base",
          "model_name": "LayoutModel",
          "model_module_version": "1.2.0",
          "state": {
            "_model_module": "@jupyter-widgets/base",
            "_model_module_version": "1.2.0",
            "_model_name": "LayoutModel",
            "_view_count": null,
            "_view_module": "@jupyter-widgets/base",
            "_view_module_version": "1.2.0",
            "_view_name": "LayoutView",
            "align_content": null,
            "align_items": null,
            "align_self": null,
            "border": null,
            "bottom": null,
            "display": null,
            "flex": null,
            "flex_flow": null,
            "grid_area": null,
            "grid_auto_columns": null,
            "grid_auto_flow": null,
            "grid_auto_rows": null,
            "grid_column": null,
            "grid_gap": null,
            "grid_row": null,
            "grid_template_areas": null,
            "grid_template_columns": null,
            "grid_template_rows": null,
            "height": null,
            "justify_content": null,
            "justify_items": null,
            "left": null,
            "margin": null,
            "max_height": null,
            "max_width": null,
            "min_height": null,
            "min_width": null,
            "object_fit": null,
            "object_position": null,
            "order": null,
            "overflow": null,
            "overflow_x": null,
            "overflow_y": null,
            "padding": null,
            "right": null,
            "top": null,
            "visibility": null,
            "width": null
          }
        },
        "3ddb8074299e4d4e843098af9f55cdf9": {
          "model_module": "@jupyter-widgets/controls",
          "model_name": "DescriptionStyleModel",
          "model_module_version": "1.5.0",
          "state": {
            "_model_module": "@jupyter-widgets/controls",
            "_model_module_version": "1.5.0",
            "_model_name": "DescriptionStyleModel",
            "_view_count": null,
            "_view_module": "@jupyter-widgets/base",
            "_view_module_version": "1.2.0",
            "_view_name": "StyleView",
            "description_width": ""
          }
        },
        "6b28c2ce4e87457ea3ffce6e4a5ba5ec": {
          "model_module": "@jupyter-widgets/controls",
          "model_name": "HBoxModel",
          "model_module_version": "1.5.0",
          "state": {
            "_dom_classes": [],
            "_model_module": "@jupyter-widgets/controls",
            "_model_module_version": "1.5.0",
            "_model_name": "HBoxModel",
            "_view_count": null,
            "_view_module": "@jupyter-widgets/controls",
            "_view_module_version": "1.5.0",
            "_view_name": "HBoxView",
            "box_style": "",
            "children": [
              "IPY_MODEL_14be3957c1d9409383a441ca4f59a00f",
              "IPY_MODEL_dc87c9082d7e44cda3bead85d5b04989",
              "IPY_MODEL_fc3d802b019b435cb4fad25c6148084d"
            ],
            "layout": "IPY_MODEL_4f5b1ea886cf446baaed9864729b92cf"
          }
        },
        "14be3957c1d9409383a441ca4f59a00f": {
          "model_module": "@jupyter-widgets/controls",
          "model_name": "HTMLModel",
          "model_module_version": "1.5.0",
          "state": {
            "_dom_classes": [],
            "_model_module": "@jupyter-widgets/controls",
            "_model_module_version": "1.5.0",
            "_model_name": "HTMLModel",
            "_view_count": null,
            "_view_module": "@jupyter-widgets/controls",
            "_view_module_version": "1.5.0",
            "_view_name": "HTMLView",
            "description": "",
            "description_tooltip": null,
            "layout": "IPY_MODEL_c76d530d3c114357b42b94818c0ddafc",
            "placeholder": "​",
            "style": "IPY_MODEL_2d934299ed9e48d7a03477ec82112227",
            "value": "vocab.txt: 100%"
          }
        },
        "dc87c9082d7e44cda3bead85d5b04989": {
          "model_module": "@jupyter-widgets/controls",
          "model_name": "FloatProgressModel",
          "model_module_version": "1.5.0",
          "state": {
            "_dom_classes": [],
            "_model_module": "@jupyter-widgets/controls",
            "_model_module_version": "1.5.0",
            "_model_name": "FloatProgressModel",
            "_view_count": null,
            "_view_module": "@jupyter-widgets/controls",
            "_view_module_version": "1.5.0",
            "_view_name": "ProgressView",
            "bar_style": "success",
            "description": "",
            "description_tooltip": null,
            "layout": "IPY_MODEL_ee6a644600964149b083408c346d101a",
            "max": 213450,
            "min": 0,
            "orientation": "horizontal",
            "style": "IPY_MODEL_113fa6356e2d4828a0b2b346d5a03b28",
            "value": 213450
          }
        },
        "fc3d802b019b435cb4fad25c6148084d": {
          "model_module": "@jupyter-widgets/controls",
          "model_name": "HTMLModel",
          "model_module_version": "1.5.0",
          "state": {
            "_dom_classes": [],
            "_model_module": "@jupyter-widgets/controls",
            "_model_module_version": "1.5.0",
            "_model_name": "HTMLModel",
            "_view_count": null,
            "_view_module": "@jupyter-widgets/controls",
            "_view_module_version": "1.5.0",
            "_view_name": "HTMLView",
            "description": "",
            "description_tooltip": null,
            "layout": "IPY_MODEL_ca98d61076aa4fdd9c97b98618aeba41",
            "placeholder": "​",
            "style": "IPY_MODEL_866edb9166aa4e4185459e40f38ba842",
            "value": " 213k/213k [00:00&lt;00:00, 3.52MB/s]"
          }
        },
        "4f5b1ea886cf446baaed9864729b92cf": {
          "model_module": "@jupyter-widgets/base",
          "model_name": "LayoutModel",
          "model_module_version": "1.2.0",
          "state": {
            "_model_module": "@jupyter-widgets/base",
            "_model_module_version": "1.2.0",
            "_model_name": "LayoutModel",
            "_view_count": null,
            "_view_module": "@jupyter-widgets/base",
            "_view_module_version": "1.2.0",
            "_view_name": "LayoutView",
            "align_content": null,
            "align_items": null,
            "align_self": null,
            "border": null,
            "bottom": null,
            "display": null,
            "flex": null,
            "flex_flow": null,
            "grid_area": null,
            "grid_auto_columns": null,
            "grid_auto_flow": null,
            "grid_auto_rows": null,
            "grid_column": null,
            "grid_gap": null,
            "grid_row": null,
            "grid_template_areas": null,
            "grid_template_columns": null,
            "grid_template_rows": null,
            "height": null,
            "justify_content": null,
            "justify_items": null,
            "left": null,
            "margin": null,
            "max_height": null,
            "max_width": null,
            "min_height": null,
            "min_width": null,
            "object_fit": null,
            "object_position": null,
            "order": null,
            "overflow": null,
            "overflow_x": null,
            "overflow_y": null,
            "padding": null,
            "right": null,
            "top": null,
            "visibility": null,
            "width": null
          }
        },
        "c76d530d3c114357b42b94818c0ddafc": {
          "model_module": "@jupyter-widgets/base",
          "model_name": "LayoutModel",
          "model_module_version": "1.2.0",
          "state": {
            "_model_module": "@jupyter-widgets/base",
            "_model_module_version": "1.2.0",
            "_model_name": "LayoutModel",
            "_view_count": null,
            "_view_module": "@jupyter-widgets/base",
            "_view_module_version": "1.2.0",
            "_view_name": "LayoutView",
            "align_content": null,
            "align_items": null,
            "align_self": null,
            "border": null,
            "bottom": null,
            "display": null,
            "flex": null,
            "flex_flow": null,
            "grid_area": null,
            "grid_auto_columns": null,
            "grid_auto_flow": null,
            "grid_auto_rows": null,
            "grid_column": null,
            "grid_gap": null,
            "grid_row": null,
            "grid_template_areas": null,
            "grid_template_columns": null,
            "grid_template_rows": null,
            "height": null,
            "justify_content": null,
            "justify_items": null,
            "left": null,
            "margin": null,
            "max_height": null,
            "max_width": null,
            "min_height": null,
            "min_width": null,
            "object_fit": null,
            "object_position": null,
            "order": null,
            "overflow": null,
            "overflow_x": null,
            "overflow_y": null,
            "padding": null,
            "right": null,
            "top": null,
            "visibility": null,
            "width": null
          }
        },
        "2d934299ed9e48d7a03477ec82112227": {
          "model_module": "@jupyter-widgets/controls",
          "model_name": "DescriptionStyleModel",
          "model_module_version": "1.5.0",
          "state": {
            "_model_module": "@jupyter-widgets/controls",
            "_model_module_version": "1.5.0",
            "_model_name": "DescriptionStyleModel",
            "_view_count": null,
            "_view_module": "@jupyter-widgets/base",
            "_view_module_version": "1.2.0",
            "_view_name": "StyleView",
            "description_width": ""
          }
        },
        "ee6a644600964149b083408c346d101a": {
          "model_module": "@jupyter-widgets/base",
          "model_name": "LayoutModel",
          "model_module_version": "1.2.0",
          "state": {
            "_model_module": "@jupyter-widgets/base",
            "_model_module_version": "1.2.0",
            "_model_name": "LayoutModel",
            "_view_count": null,
            "_view_module": "@jupyter-widgets/base",
            "_view_module_version": "1.2.0",
            "_view_name": "LayoutView",
            "align_content": null,
            "align_items": null,
            "align_self": null,
            "border": null,
            "bottom": null,
            "display": null,
            "flex": null,
            "flex_flow": null,
            "grid_area": null,
            "grid_auto_columns": null,
            "grid_auto_flow": null,
            "grid_auto_rows": null,
            "grid_column": null,
            "grid_gap": null,
            "grid_row": null,
            "grid_template_areas": null,
            "grid_template_columns": null,
            "grid_template_rows": null,
            "height": null,
            "justify_content": null,
            "justify_items": null,
            "left": null,
            "margin": null,
            "max_height": null,
            "max_width": null,
            "min_height": null,
            "min_width": null,
            "object_fit": null,
            "object_position": null,
            "order": null,
            "overflow": null,
            "overflow_x": null,
            "overflow_y": null,
            "padding": null,
            "right": null,
            "top": null,
            "visibility": null,
            "width": null
          }
        },
        "113fa6356e2d4828a0b2b346d5a03b28": {
          "model_module": "@jupyter-widgets/controls",
          "model_name": "ProgressStyleModel",
          "model_module_version": "1.5.0",
          "state": {
            "_model_module": "@jupyter-widgets/controls",
            "_model_module_version": "1.5.0",
            "_model_name": "ProgressStyleModel",
            "_view_count": null,
            "_view_module": "@jupyter-widgets/base",
            "_view_module_version": "1.2.0",
            "_view_name": "StyleView",
            "bar_color": null,
            "description_width": ""
          }
        },
        "ca98d61076aa4fdd9c97b98618aeba41": {
          "model_module": "@jupyter-widgets/base",
          "model_name": "LayoutModel",
          "model_module_version": "1.2.0",
          "state": {
            "_model_module": "@jupyter-widgets/base",
            "_model_module_version": "1.2.0",
            "_model_name": "LayoutModel",
            "_view_count": null,
            "_view_module": "@jupyter-widgets/base",
            "_view_module_version": "1.2.0",
            "_view_name": "LayoutView",
            "align_content": null,
            "align_items": null,
            "align_self": null,
            "border": null,
            "bottom": null,
            "display": null,
            "flex": null,
            "flex_flow": null,
            "grid_area": null,
            "grid_auto_columns": null,
            "grid_auto_flow": null,
            "grid_auto_rows": null,
            "grid_column": null,
            "grid_gap": null,
            "grid_row": null,
            "grid_template_areas": null,
            "grid_template_columns": null,
            "grid_template_rows": null,
            "height": null,
            "justify_content": null,
            "justify_items": null,
            "left": null,
            "margin": null,
            "max_height": null,
            "max_width": null,
            "min_height": null,
            "min_width": null,
            "object_fit": null,
            "object_position": null,
            "order": null,
            "overflow": null,
            "overflow_x": null,
            "overflow_y": null,
            "padding": null,
            "right": null,
            "top": null,
            "visibility": null,
            "width": null
          }
        },
        "866edb9166aa4e4185459e40f38ba842": {
          "model_module": "@jupyter-widgets/controls",
          "model_name": "DescriptionStyleModel",
          "model_module_version": "1.5.0",
          "state": {
            "_model_module": "@jupyter-widgets/controls",
            "_model_module_version": "1.5.0",
            "_model_name": "DescriptionStyleModel",
            "_view_count": null,
            "_view_module": "@jupyter-widgets/base",
            "_view_module_version": "1.2.0",
            "_view_name": "StyleView",
            "description_width": ""
          }
        },
        "ad52eb19e4bf45ecba66f6de5ed76cf8": {
          "model_module": "@jupyter-widgets/controls",
          "model_name": "HBoxModel",
          "model_module_version": "1.5.0",
          "state": {
            "_dom_classes": [],
            "_model_module": "@jupyter-widgets/controls",
            "_model_module_version": "1.5.0",
            "_model_name": "HBoxModel",
            "_view_count": null,
            "_view_module": "@jupyter-widgets/controls",
            "_view_module_version": "1.5.0",
            "_view_name": "HBoxView",
            "box_style": "",
            "children": [
              "IPY_MODEL_90eedbacb8f141e9bc527fb31cfd5e1c",
              "IPY_MODEL_07392e0f54e14653b9a0e4818cc8023a",
              "IPY_MODEL_f37c03b5d22e43cd9ade7ac2d817d6ec"
            ],
            "layout": "IPY_MODEL_8ed0a50b65a449619a21d07c9a4de6e0"
          }
        },
        "90eedbacb8f141e9bc527fb31cfd5e1c": {
          "model_module": "@jupyter-widgets/controls",
          "model_name": "HTMLModel",
          "model_module_version": "1.5.0",
          "state": {
            "_dom_classes": [],
            "_model_module": "@jupyter-widgets/controls",
            "_model_module_version": "1.5.0",
            "_model_name": "HTMLModel",
            "_view_count": null,
            "_view_module": "@jupyter-widgets/controls",
            "_view_module_version": "1.5.0",
            "_view_name": "HTMLView",
            "description": "",
            "description_tooltip": null,
            "layout": "IPY_MODEL_7a7569bc4f354deeb5c686f9e72325c9",
            "placeholder": "​",
            "style": "IPY_MODEL_69bd2cd6a6d74a65ae96942983f52e9d",
            "value": "tokenizer.json: 100%"
          }
        },
        "07392e0f54e14653b9a0e4818cc8023a": {
          "model_module": "@jupyter-widgets/controls",
          "model_name": "FloatProgressModel",
          "model_module_version": "1.5.0",
          "state": {
            "_dom_classes": [],
            "_model_module": "@jupyter-widgets/controls",
            "_model_module_version": "1.5.0",
            "_model_name": "FloatProgressModel",
            "_view_count": null,
            "_view_module": "@jupyter-widgets/controls",
            "_view_module_version": "1.5.0",
            "_view_name": "ProgressView",
            "bar_style": "success",
            "description": "",
            "description_tooltip": null,
            "layout": "IPY_MODEL_12150d7abd4e4e0ca40a5e7791f2a124",
            "max": 435797,
            "min": 0,
            "orientation": "horizontal",
            "style": "IPY_MODEL_fa74171c48d0432ea78a2339fd1915cf",
            "value": 435797
          }
        },
        "f37c03b5d22e43cd9ade7ac2d817d6ec": {
          "model_module": "@jupyter-widgets/controls",
          "model_name": "HTMLModel",
          "model_module_version": "1.5.0",
          "state": {
            "_dom_classes": [],
            "_model_module": "@jupyter-widgets/controls",
            "_model_module_version": "1.5.0",
            "_model_name": "HTMLModel",
            "_view_count": null,
            "_view_module": "@jupyter-widgets/controls",
            "_view_module_version": "1.5.0",
            "_view_name": "HTMLView",
            "description": "",
            "description_tooltip": null,
            "layout": "IPY_MODEL_e2552b0c381a454988fb107f859b39d8",
            "placeholder": "​",
            "style": "IPY_MODEL_1b0e2ccc454e45f9958aaa73e9c0eb3e",
            "value": " 436k/436k [00:00&lt;00:00, 14.9MB/s]"
          }
        },
        "8ed0a50b65a449619a21d07c9a4de6e0": {
          "model_module": "@jupyter-widgets/base",
          "model_name": "LayoutModel",
          "model_module_version": "1.2.0",
          "state": {
            "_model_module": "@jupyter-widgets/base",
            "_model_module_version": "1.2.0",
            "_model_name": "LayoutModel",
            "_view_count": null,
            "_view_module": "@jupyter-widgets/base",
            "_view_module_version": "1.2.0",
            "_view_name": "LayoutView",
            "align_content": null,
            "align_items": null,
            "align_self": null,
            "border": null,
            "bottom": null,
            "display": null,
            "flex": null,
            "flex_flow": null,
            "grid_area": null,
            "grid_auto_columns": null,
            "grid_auto_flow": null,
            "grid_auto_rows": null,
            "grid_column": null,
            "grid_gap": null,
            "grid_row": null,
            "grid_template_areas": null,
            "grid_template_columns": null,
            "grid_template_rows": null,
            "height": null,
            "justify_content": null,
            "justify_items": null,
            "left": null,
            "margin": null,
            "max_height": null,
            "max_width": null,
            "min_height": null,
            "min_width": null,
            "object_fit": null,
            "object_position": null,
            "order": null,
            "overflow": null,
            "overflow_x": null,
            "overflow_y": null,
            "padding": null,
            "right": null,
            "top": null,
            "visibility": null,
            "width": null
          }
        },
        "7a7569bc4f354deeb5c686f9e72325c9": {
          "model_module": "@jupyter-widgets/base",
          "model_name": "LayoutModel",
          "model_module_version": "1.2.0",
          "state": {
            "_model_module": "@jupyter-widgets/base",
            "_model_module_version": "1.2.0",
            "_model_name": "LayoutModel",
            "_view_count": null,
            "_view_module": "@jupyter-widgets/base",
            "_view_module_version": "1.2.0",
            "_view_name": "LayoutView",
            "align_content": null,
            "align_items": null,
            "align_self": null,
            "border": null,
            "bottom": null,
            "display": null,
            "flex": null,
            "flex_flow": null,
            "grid_area": null,
            "grid_auto_columns": null,
            "grid_auto_flow": null,
            "grid_auto_rows": null,
            "grid_column": null,
            "grid_gap": null,
            "grid_row": null,
            "grid_template_areas": null,
            "grid_template_columns": null,
            "grid_template_rows": null,
            "height": null,
            "justify_content": null,
            "justify_items": null,
            "left": null,
            "margin": null,
            "max_height": null,
            "max_width": null,
            "min_height": null,
            "min_width": null,
            "object_fit": null,
            "object_position": null,
            "order": null,
            "overflow": null,
            "overflow_x": null,
            "overflow_y": null,
            "padding": null,
            "right": null,
            "top": null,
            "visibility": null,
            "width": null
          }
        },
        "69bd2cd6a6d74a65ae96942983f52e9d": {
          "model_module": "@jupyter-widgets/controls",
          "model_name": "DescriptionStyleModel",
          "model_module_version": "1.5.0",
          "state": {
            "_model_module": "@jupyter-widgets/controls",
            "_model_module_version": "1.5.0",
            "_model_name": "DescriptionStyleModel",
            "_view_count": null,
            "_view_module": "@jupyter-widgets/base",
            "_view_module_version": "1.2.0",
            "_view_name": "StyleView",
            "description_width": ""
          }
        },
        "12150d7abd4e4e0ca40a5e7791f2a124": {
          "model_module": "@jupyter-widgets/base",
          "model_name": "LayoutModel",
          "model_module_version": "1.2.0",
          "state": {
            "_model_module": "@jupyter-widgets/base",
            "_model_module_version": "1.2.0",
            "_model_name": "LayoutModel",
            "_view_count": null,
            "_view_module": "@jupyter-widgets/base",
            "_view_module_version": "1.2.0",
            "_view_name": "LayoutView",
            "align_content": null,
            "align_items": null,
            "align_self": null,
            "border": null,
            "bottom": null,
            "display": null,
            "flex": null,
            "flex_flow": null,
            "grid_area": null,
            "grid_auto_columns": null,
            "grid_auto_flow": null,
            "grid_auto_rows": null,
            "grid_column": null,
            "grid_gap": null,
            "grid_row": null,
            "grid_template_areas": null,
            "grid_template_columns": null,
            "grid_template_rows": null,
            "height": null,
            "justify_content": null,
            "justify_items": null,
            "left": null,
            "margin": null,
            "max_height": null,
            "max_width": null,
            "min_height": null,
            "min_width": null,
            "object_fit": null,
            "object_position": null,
            "order": null,
            "overflow": null,
            "overflow_x": null,
            "overflow_y": null,
            "padding": null,
            "right": null,
            "top": null,
            "visibility": null,
            "width": null
          }
        },
        "fa74171c48d0432ea78a2339fd1915cf": {
          "model_module": "@jupyter-widgets/controls",
          "model_name": "ProgressStyleModel",
          "model_module_version": "1.5.0",
          "state": {
            "_model_module": "@jupyter-widgets/controls",
            "_model_module_version": "1.5.0",
            "_model_name": "ProgressStyleModel",
            "_view_count": null,
            "_view_module": "@jupyter-widgets/base",
            "_view_module_version": "1.2.0",
            "_view_name": "StyleView",
            "bar_color": null,
            "description_width": ""
          }
        },
        "e2552b0c381a454988fb107f859b39d8": {
          "model_module": "@jupyter-widgets/base",
          "model_name": "LayoutModel",
          "model_module_version": "1.2.0",
          "state": {
            "_model_module": "@jupyter-widgets/base",
            "_model_module_version": "1.2.0",
            "_model_name": "LayoutModel",
            "_view_count": null,
            "_view_module": "@jupyter-widgets/base",
            "_view_module_version": "1.2.0",
            "_view_name": "LayoutView",
            "align_content": null,
            "align_items": null,
            "align_self": null,
            "border": null,
            "bottom": null,
            "display": null,
            "flex": null,
            "flex_flow": null,
            "grid_area": null,
            "grid_auto_columns": null,
            "grid_auto_flow": null,
            "grid_auto_rows": null,
            "grid_column": null,
            "grid_gap": null,
            "grid_row": null,
            "grid_template_areas": null,
            "grid_template_columns": null,
            "grid_template_rows": null,
            "height": null,
            "justify_content": null,
            "justify_items": null,
            "left": null,
            "margin": null,
            "max_height": null,
            "max_width": null,
            "min_height": null,
            "min_width": null,
            "object_fit": null,
            "object_position": null,
            "order": null,
            "overflow": null,
            "overflow_x": null,
            "overflow_y": null,
            "padding": null,
            "right": null,
            "top": null,
            "visibility": null,
            "width": null
          }
        },
        "1b0e2ccc454e45f9958aaa73e9c0eb3e": {
          "model_module": "@jupyter-widgets/controls",
          "model_name": "DescriptionStyleModel",
          "model_module_version": "1.5.0",
          "state": {
            "_model_module": "@jupyter-widgets/controls",
            "_model_module_version": "1.5.0",
            "_model_name": "DescriptionStyleModel",
            "_view_count": null,
            "_view_module": "@jupyter-widgets/base",
            "_view_module_version": "1.2.0",
            "_view_name": "StyleView",
            "description_width": ""
          }
        },
        "ba4303cfa3fd44ad99899712e48f736b": {
          "model_module": "@jupyter-widgets/controls",
          "model_name": "HBoxModel",
          "model_module_version": "1.5.0",
          "state": {
            "_dom_classes": [],
            "_model_module": "@jupyter-widgets/controls",
            "_model_module_version": "1.5.0",
            "_model_name": "HBoxModel",
            "_view_count": null,
            "_view_module": "@jupyter-widgets/controls",
            "_view_module_version": "1.5.0",
            "_view_name": "HBoxView",
            "box_style": "",
            "children": [
              "IPY_MODEL_7b28d3c83ce543b49a55f31a70d3cfd7",
              "IPY_MODEL_bba075407bcb473796e8e17e04b32498",
              "IPY_MODEL_2aaacfdefe384d1cbdd1b6bd47edfc19"
            ],
            "layout": "IPY_MODEL_08e4308eb6a7433c830ba26de16a2191"
          }
        },
        "7b28d3c83ce543b49a55f31a70d3cfd7": {
          "model_module": "@jupyter-widgets/controls",
          "model_name": "HTMLModel",
          "model_module_version": "1.5.0",
          "state": {
            "_dom_classes": [],
            "_model_module": "@jupyter-widgets/controls",
            "_model_module_version": "1.5.0",
            "_model_name": "HTMLModel",
            "_view_count": null,
            "_view_module": "@jupyter-widgets/controls",
            "_view_module_version": "1.5.0",
            "_view_name": "HTMLView",
            "description": "",
            "description_tooltip": null,
            "layout": "IPY_MODEL_b4cf6fbe1a2547bb83cda2d711687013",
            "placeholder": "​",
            "style": "IPY_MODEL_e9603c87b50748acb30ed4a92b1e4292",
            "value": "Map: 100%"
          }
        },
        "bba075407bcb473796e8e17e04b32498": {
          "model_module": "@jupyter-widgets/controls",
          "model_name": "FloatProgressModel",
          "model_module_version": "1.5.0",
          "state": {
            "_dom_classes": [],
            "_model_module": "@jupyter-widgets/controls",
            "_model_module_version": "1.5.0",
            "_model_name": "FloatProgressModel",
            "_view_count": null,
            "_view_module": "@jupyter-widgets/controls",
            "_view_module_version": "1.5.0",
            "_view_name": "ProgressView",
            "bar_style": "success",
            "description": "",
            "description_tooltip": null,
            "layout": "IPY_MODEL_68ba0ccd0a2544b8bbca8bb55311bfa5",
            "max": 7983,
            "min": 0,
            "orientation": "horizontal",
            "style": "IPY_MODEL_fca717744a634501ab97f95658cafed6",
            "value": 7983
          }
        },
        "2aaacfdefe384d1cbdd1b6bd47edfc19": {
          "model_module": "@jupyter-widgets/controls",
          "model_name": "HTMLModel",
          "model_module_version": "1.5.0",
          "state": {
            "_dom_classes": [],
            "_model_module": "@jupyter-widgets/controls",
            "_model_module_version": "1.5.0",
            "_model_name": "HTMLModel",
            "_view_count": null,
            "_view_module": "@jupyter-widgets/controls",
            "_view_module_version": "1.5.0",
            "_view_name": "HTMLView",
            "description": "",
            "description_tooltip": null,
            "layout": "IPY_MODEL_4273788417bd4013adf7c1a74c89a4b6",
            "placeholder": "​",
            "style": "IPY_MODEL_b5f4587dd9aa476cbda8aa359416d157",
            "value": " 7983/7983 [00:15&lt;00:00, 518.51 examples/s]"
          }
        },
        "08e4308eb6a7433c830ba26de16a2191": {
          "model_module": "@jupyter-widgets/base",
          "model_name": "LayoutModel",
          "model_module_version": "1.2.0",
          "state": {
            "_model_module": "@jupyter-widgets/base",
            "_model_module_version": "1.2.0",
            "_model_name": "LayoutModel",
            "_view_count": null,
            "_view_module": "@jupyter-widgets/base",
            "_view_module_version": "1.2.0",
            "_view_name": "LayoutView",
            "align_content": null,
            "align_items": null,
            "align_self": null,
            "border": null,
            "bottom": null,
            "display": null,
            "flex": null,
            "flex_flow": null,
            "grid_area": null,
            "grid_auto_columns": null,
            "grid_auto_flow": null,
            "grid_auto_rows": null,
            "grid_column": null,
            "grid_gap": null,
            "grid_row": null,
            "grid_template_areas": null,
            "grid_template_columns": null,
            "grid_template_rows": null,
            "height": null,
            "justify_content": null,
            "justify_items": null,
            "left": null,
            "margin": null,
            "max_height": null,
            "max_width": null,
            "min_height": null,
            "min_width": null,
            "object_fit": null,
            "object_position": null,
            "order": null,
            "overflow": null,
            "overflow_x": null,
            "overflow_y": null,
            "padding": null,
            "right": null,
            "top": null,
            "visibility": null,
            "width": null
          }
        },
        "b4cf6fbe1a2547bb83cda2d711687013": {
          "model_module": "@jupyter-widgets/base",
          "model_name": "LayoutModel",
          "model_module_version": "1.2.0",
          "state": {
            "_model_module": "@jupyter-widgets/base",
            "_model_module_version": "1.2.0",
            "_model_name": "LayoutModel",
            "_view_count": null,
            "_view_module": "@jupyter-widgets/base",
            "_view_module_version": "1.2.0",
            "_view_name": "LayoutView",
            "align_content": null,
            "align_items": null,
            "align_self": null,
            "border": null,
            "bottom": null,
            "display": null,
            "flex": null,
            "flex_flow": null,
            "grid_area": null,
            "grid_auto_columns": null,
            "grid_auto_flow": null,
            "grid_auto_rows": null,
            "grid_column": null,
            "grid_gap": null,
            "grid_row": null,
            "grid_template_areas": null,
            "grid_template_columns": null,
            "grid_template_rows": null,
            "height": null,
            "justify_content": null,
            "justify_items": null,
            "left": null,
            "margin": null,
            "max_height": null,
            "max_width": null,
            "min_height": null,
            "min_width": null,
            "object_fit": null,
            "object_position": null,
            "order": null,
            "overflow": null,
            "overflow_x": null,
            "overflow_y": null,
            "padding": null,
            "right": null,
            "top": null,
            "visibility": null,
            "width": null
          }
        },
        "e9603c87b50748acb30ed4a92b1e4292": {
          "model_module": "@jupyter-widgets/controls",
          "model_name": "DescriptionStyleModel",
          "model_module_version": "1.5.0",
          "state": {
            "_model_module": "@jupyter-widgets/controls",
            "_model_module_version": "1.5.0",
            "_model_name": "DescriptionStyleModel",
            "_view_count": null,
            "_view_module": "@jupyter-widgets/base",
            "_view_module_version": "1.2.0",
            "_view_name": "StyleView",
            "description_width": ""
          }
        },
        "68ba0ccd0a2544b8bbca8bb55311bfa5": {
          "model_module": "@jupyter-widgets/base",
          "model_name": "LayoutModel",
          "model_module_version": "1.2.0",
          "state": {
            "_model_module": "@jupyter-widgets/base",
            "_model_module_version": "1.2.0",
            "_model_name": "LayoutModel",
            "_view_count": null,
            "_view_module": "@jupyter-widgets/base",
            "_view_module_version": "1.2.0",
            "_view_name": "LayoutView",
            "align_content": null,
            "align_items": null,
            "align_self": null,
            "border": null,
            "bottom": null,
            "display": null,
            "flex": null,
            "flex_flow": null,
            "grid_area": null,
            "grid_auto_columns": null,
            "grid_auto_flow": null,
            "grid_auto_rows": null,
            "grid_column": null,
            "grid_gap": null,
            "grid_row": null,
            "grid_template_areas": null,
            "grid_template_columns": null,
            "grid_template_rows": null,
            "height": null,
            "justify_content": null,
            "justify_items": null,
            "left": null,
            "margin": null,
            "max_height": null,
            "max_width": null,
            "min_height": null,
            "min_width": null,
            "object_fit": null,
            "object_position": null,
            "order": null,
            "overflow": null,
            "overflow_x": null,
            "overflow_y": null,
            "padding": null,
            "right": null,
            "top": null,
            "visibility": null,
            "width": null
          }
        },
        "fca717744a634501ab97f95658cafed6": {
          "model_module": "@jupyter-widgets/controls",
          "model_name": "ProgressStyleModel",
          "model_module_version": "1.5.0",
          "state": {
            "_model_module": "@jupyter-widgets/controls",
            "_model_module_version": "1.5.0",
            "_model_name": "ProgressStyleModel",
            "_view_count": null,
            "_view_module": "@jupyter-widgets/base",
            "_view_module_version": "1.2.0",
            "_view_name": "StyleView",
            "bar_color": null,
            "description_width": ""
          }
        },
        "4273788417bd4013adf7c1a74c89a4b6": {
          "model_module": "@jupyter-widgets/base",
          "model_name": "LayoutModel",
          "model_module_version": "1.2.0",
          "state": {
            "_model_module": "@jupyter-widgets/base",
            "_model_module_version": "1.2.0",
            "_model_name": "LayoutModel",
            "_view_count": null,
            "_view_module": "@jupyter-widgets/base",
            "_view_module_version": "1.2.0",
            "_view_name": "LayoutView",
            "align_content": null,
            "align_items": null,
            "align_self": null,
            "border": null,
            "bottom": null,
            "display": null,
            "flex": null,
            "flex_flow": null,
            "grid_area": null,
            "grid_auto_columns": null,
            "grid_auto_flow": null,
            "grid_auto_rows": null,
            "grid_column": null,
            "grid_gap": null,
            "grid_row": null,
            "grid_template_areas": null,
            "grid_template_columns": null,
            "grid_template_rows": null,
            "height": null,
            "justify_content": null,
            "justify_items": null,
            "left": null,
            "margin": null,
            "max_height": null,
            "max_width": null,
            "min_height": null,
            "min_width": null,
            "object_fit": null,
            "object_position": null,
            "order": null,
            "overflow": null,
            "overflow_x": null,
            "overflow_y": null,
            "padding": null,
            "right": null,
            "top": null,
            "visibility": null,
            "width": null
          }
        },
        "b5f4587dd9aa476cbda8aa359416d157": {
          "model_module": "@jupyter-widgets/controls",
          "model_name": "DescriptionStyleModel",
          "model_module_version": "1.5.0",
          "state": {
            "_model_module": "@jupyter-widgets/controls",
            "_model_module_version": "1.5.0",
            "_model_name": "DescriptionStyleModel",
            "_view_count": null,
            "_view_module": "@jupyter-widgets/base",
            "_view_module_version": "1.2.0",
            "_view_name": "StyleView",
            "description_width": ""
          }
        }
      }
    }
  },
  "cells": [
    {
      "cell_type": "code",
      "execution_count": 2,
      "metadata": {
        "colab": {
          "base_uri": "https://localhost:8080/"
        },
        "id": "JSXxDS5Pz1sw",
        "outputId": "c08e4b37-3146-40f2-e3c5-e2c591ff194b"
      },
      "outputs": [
        {
          "output_type": "stream",
          "name": "stdout",
          "text": [
            "Collecting datasets\n",
            "  Downloading datasets-2.19.0-py3-none-any.whl (542 kB)\n",
            "\u001b[2K     \u001b[90m━━━━━━━━━━━━━━━━━━━━━━━━━━━━━━━━━━━━━━━━\u001b[0m \u001b[32m542.0/542.0 kB\u001b[0m \u001b[31m7.4 MB/s\u001b[0m eta \u001b[36m0:00:00\u001b[0m\n",
            "\u001b[?25hCollecting evaluate\n",
            "  Downloading evaluate-0.4.1-py3-none-any.whl (84 kB)\n",
            "\u001b[2K     \u001b[90m━━━━━━━━━━━━━━━━━━━━━━━━━━━━━━━━━━━━━━━━\u001b[0m \u001b[32m84.1/84.1 kB\u001b[0m \u001b[31m8.8 MB/s\u001b[0m eta \u001b[36m0:00:00\u001b[0m\n",
            "\u001b[?25hRequirement already satisfied: transformers[sentencepiece] in /usr/local/lib/python3.10/dist-packages (4.38.2)\n",
            "Requirement already satisfied: filelock in /usr/local/lib/python3.10/dist-packages (from datasets) (3.13.4)\n",
            "Requirement already satisfied: numpy>=1.17 in /usr/local/lib/python3.10/dist-packages (from datasets) (1.25.2)\n",
            "Requirement already satisfied: pyarrow>=12.0.0 in /usr/local/lib/python3.10/dist-packages (from datasets) (14.0.2)\n",
            "Requirement already satisfied: pyarrow-hotfix in /usr/local/lib/python3.10/dist-packages (from datasets) (0.6)\n",
            "Collecting dill<0.3.9,>=0.3.0 (from datasets)\n",
            "  Downloading dill-0.3.8-py3-none-any.whl (116 kB)\n",
            "\u001b[2K     \u001b[90m━━━━━━━━━━━━━━━━━━━━━━━━━━━━━━━━━━━━━━━━\u001b[0m \u001b[32m116.3/116.3 kB\u001b[0m \u001b[31m11.1 MB/s\u001b[0m eta \u001b[36m0:00:00\u001b[0m\n",
            "\u001b[?25hRequirement already satisfied: pandas in /usr/local/lib/python3.10/dist-packages (from datasets) (2.0.3)\n",
            "Requirement already satisfied: requests>=2.19.0 in /usr/local/lib/python3.10/dist-packages (from datasets) (2.31.0)\n",
            "Requirement already satisfied: tqdm>=4.62.1 in /usr/local/lib/python3.10/dist-packages (from datasets) (4.66.2)\n",
            "Collecting xxhash (from datasets)\n",
            "  Downloading xxhash-3.4.1-cp310-cp310-manylinux_2_17_x86_64.manylinux2014_x86_64.whl (194 kB)\n",
            "\u001b[2K     \u001b[90m━━━━━━━━━━━━━━━━━━━━━━━━━━━━━━━━━━━━━━━━\u001b[0m \u001b[32m194.1/194.1 kB\u001b[0m \u001b[31m10.7 MB/s\u001b[0m eta \u001b[36m0:00:00\u001b[0m\n",
            "\u001b[?25hCollecting multiprocess (from datasets)\n",
            "  Downloading multiprocess-0.70.16-py310-none-any.whl (134 kB)\n",
            "\u001b[2K     \u001b[90m━━━━━━━━━━━━━━━━━━━━━━━━━━━━━━━━━━━━━━━━\u001b[0m \u001b[32m134.8/134.8 kB\u001b[0m \u001b[31m11.7 MB/s\u001b[0m eta \u001b[36m0:00:00\u001b[0m\n",
            "\u001b[?25hRequirement already satisfied: fsspec[http]<=2024.3.1,>=2023.1.0 in /usr/local/lib/python3.10/dist-packages (from datasets) (2023.6.0)\n",
            "Requirement already satisfied: aiohttp in /usr/local/lib/python3.10/dist-packages (from datasets) (3.9.5)\n",
            "Collecting huggingface-hub>=0.21.2 (from datasets)\n",
            "  Downloading huggingface_hub-0.22.2-py3-none-any.whl (388 kB)\n",
            "\u001b[2K     \u001b[90m━━━━━━━━━━━━━━━━━━━━━━━━━━━━━━━━━━━━━━━━\u001b[0m \u001b[32m388.9/388.9 kB\u001b[0m \u001b[31m11.2 MB/s\u001b[0m eta \u001b[36m0:00:00\u001b[0m\n",
            "\u001b[?25hRequirement already satisfied: packaging in /usr/local/lib/python3.10/dist-packages (from datasets) (24.0)\n",
            "Requirement already satisfied: pyyaml>=5.1 in /usr/local/lib/python3.10/dist-packages (from datasets) (6.0.1)\n",
            "Collecting responses<0.19 (from evaluate)\n",
            "  Downloading responses-0.18.0-py3-none-any.whl (38 kB)\n",
            "Requirement already satisfied: regex!=2019.12.17 in /usr/local/lib/python3.10/dist-packages (from transformers[sentencepiece]) (2023.12.25)\n",
            "Requirement already satisfied: tokenizers<0.19,>=0.14 in /usr/local/lib/python3.10/dist-packages (from transformers[sentencepiece]) (0.15.2)\n",
            "Requirement already satisfied: safetensors>=0.4.1 in /usr/local/lib/python3.10/dist-packages (from transformers[sentencepiece]) (0.4.3)\n",
            "Requirement already satisfied: sentencepiece!=0.1.92,>=0.1.91 in /usr/local/lib/python3.10/dist-packages (from transformers[sentencepiece]) (0.1.99)\n",
            "Requirement already satisfied: protobuf in /usr/local/lib/python3.10/dist-packages (from transformers[sentencepiece]) (3.20.3)\n",
            "Requirement already satisfied: aiosignal>=1.1.2 in /usr/local/lib/python3.10/dist-packages (from aiohttp->datasets) (1.3.1)\n",
            "Requirement already satisfied: attrs>=17.3.0 in /usr/local/lib/python3.10/dist-packages (from aiohttp->datasets) (23.2.0)\n",
            "Requirement already satisfied: frozenlist>=1.1.1 in /usr/local/lib/python3.10/dist-packages (from aiohttp->datasets) (1.4.1)\n",
            "Requirement already satisfied: multidict<7.0,>=4.5 in /usr/local/lib/python3.10/dist-packages (from aiohttp->datasets) (6.0.5)\n",
            "Requirement already satisfied: yarl<2.0,>=1.0 in /usr/local/lib/python3.10/dist-packages (from aiohttp->datasets) (1.9.4)\n",
            "Requirement already satisfied: async-timeout<5.0,>=4.0 in /usr/local/lib/python3.10/dist-packages (from aiohttp->datasets) (4.0.3)\n",
            "Requirement already satisfied: typing-extensions>=3.7.4.3 in /usr/local/lib/python3.10/dist-packages (from huggingface-hub>=0.21.2->datasets) (4.11.0)\n",
            "Requirement already satisfied: charset-normalizer<4,>=2 in /usr/local/lib/python3.10/dist-packages (from requests>=2.19.0->datasets) (3.3.2)\n",
            "Requirement already satisfied: idna<4,>=2.5 in /usr/local/lib/python3.10/dist-packages (from requests>=2.19.0->datasets) (3.7)\n",
            "Requirement already satisfied: urllib3<3,>=1.21.1 in /usr/local/lib/python3.10/dist-packages (from requests>=2.19.0->datasets) (2.0.7)\n",
            "Requirement already satisfied: certifi>=2017.4.17 in /usr/local/lib/python3.10/dist-packages (from requests>=2.19.0->datasets) (2024.2.2)\n",
            "Requirement already satisfied: python-dateutil>=2.8.2 in /usr/local/lib/python3.10/dist-packages (from pandas->datasets) (2.8.2)\n",
            "Requirement already satisfied: pytz>=2020.1 in /usr/local/lib/python3.10/dist-packages (from pandas->datasets) (2023.4)\n",
            "Requirement already satisfied: tzdata>=2022.1 in /usr/local/lib/python3.10/dist-packages (from pandas->datasets) (2024.1)\n",
            "Requirement already satisfied: six>=1.5 in /usr/local/lib/python3.10/dist-packages (from python-dateutil>=2.8.2->pandas->datasets) (1.16.0)\n",
            "Installing collected packages: xxhash, dill, responses, multiprocess, huggingface-hub, datasets, evaluate\n",
            "  Attempting uninstall: huggingface-hub\n",
            "    Found existing installation: huggingface-hub 0.20.3\n",
            "    Uninstalling huggingface-hub-0.20.3:\n",
            "      Successfully uninstalled huggingface-hub-0.20.3\n",
            "Successfully installed datasets-2.19.0 dill-0.3.8 evaluate-0.4.1 huggingface-hub-0.22.2 multiprocess-0.70.16 responses-0.18.0 xxhash-3.4.1\n",
            "Collecting accelerate\n",
            "  Downloading accelerate-0.29.3-py3-none-any.whl (297 kB)\n",
            "\u001b[2K     \u001b[90m━━━━━━━━━━━━━━━━━━━━━━━━━━━━━━━━━━━━━━━━\u001b[0m \u001b[32m297.6/297.6 kB\u001b[0m \u001b[31m5.7 MB/s\u001b[0m eta \u001b[36m0:00:00\u001b[0m\n",
            "\u001b[?25hRequirement already satisfied: numpy>=1.17 in /usr/local/lib/python3.10/dist-packages (from accelerate) (1.25.2)\n",
            "Requirement already satisfied: packaging>=20.0 in /usr/local/lib/python3.10/dist-packages (from accelerate) (24.0)\n",
            "Requirement already satisfied: psutil in /usr/local/lib/python3.10/dist-packages (from accelerate) (5.9.5)\n",
            "Requirement already satisfied: pyyaml in /usr/local/lib/python3.10/dist-packages (from accelerate) (6.0.1)\n",
            "Requirement already satisfied: torch>=1.10.0 in /usr/local/lib/python3.10/dist-packages (from accelerate) (2.2.1+cu121)\n",
            "Requirement already satisfied: huggingface-hub in /usr/local/lib/python3.10/dist-packages (from accelerate) (0.22.2)\n",
            "Requirement already satisfied: safetensors>=0.3.1 in /usr/local/lib/python3.10/dist-packages (from accelerate) (0.4.3)\n",
            "Requirement already satisfied: filelock in /usr/local/lib/python3.10/dist-packages (from torch>=1.10.0->accelerate) (3.13.4)\n",
            "Requirement already satisfied: typing-extensions>=4.8.0 in /usr/local/lib/python3.10/dist-packages (from torch>=1.10.0->accelerate) (4.11.0)\n",
            "Requirement already satisfied: sympy in /usr/local/lib/python3.10/dist-packages (from torch>=1.10.0->accelerate) (1.12)\n",
            "Requirement already satisfied: networkx in /usr/local/lib/python3.10/dist-packages (from torch>=1.10.0->accelerate) (3.3)\n",
            "Requirement already satisfied: jinja2 in /usr/local/lib/python3.10/dist-packages (from torch>=1.10.0->accelerate) (3.1.3)\n",
            "Requirement already satisfied: fsspec in /usr/local/lib/python3.10/dist-packages (from torch>=1.10.0->accelerate) (2023.6.0)\n",
            "Collecting nvidia-cuda-nvrtc-cu12==12.1.105 (from torch>=1.10.0->accelerate)\n",
            "  Using cached nvidia_cuda_nvrtc_cu12-12.1.105-py3-none-manylinux1_x86_64.whl (23.7 MB)\n",
            "Collecting nvidia-cuda-runtime-cu12==12.1.105 (from torch>=1.10.0->accelerate)\n",
            "  Using cached nvidia_cuda_runtime_cu12-12.1.105-py3-none-manylinux1_x86_64.whl (823 kB)\n",
            "Collecting nvidia-cuda-cupti-cu12==12.1.105 (from torch>=1.10.0->accelerate)\n",
            "  Using cached nvidia_cuda_cupti_cu12-12.1.105-py3-none-manylinux1_x86_64.whl (14.1 MB)\n",
            "Collecting nvidia-cudnn-cu12==8.9.2.26 (from torch>=1.10.0->accelerate)\n",
            "  Using cached nvidia_cudnn_cu12-8.9.2.26-py3-none-manylinux1_x86_64.whl (731.7 MB)\n",
            "Collecting nvidia-cublas-cu12==12.1.3.1 (from torch>=1.10.0->accelerate)\n",
            "  Using cached nvidia_cublas_cu12-12.1.3.1-py3-none-manylinux1_x86_64.whl (410.6 MB)\n",
            "Collecting nvidia-cufft-cu12==11.0.2.54 (from torch>=1.10.0->accelerate)\n",
            "  Using cached nvidia_cufft_cu12-11.0.2.54-py3-none-manylinux1_x86_64.whl (121.6 MB)\n",
            "Collecting nvidia-curand-cu12==10.3.2.106 (from torch>=1.10.0->accelerate)\n",
            "  Using cached nvidia_curand_cu12-10.3.2.106-py3-none-manylinux1_x86_64.whl (56.5 MB)\n",
            "Collecting nvidia-cusolver-cu12==11.4.5.107 (from torch>=1.10.0->accelerate)\n",
            "  Using cached nvidia_cusolver_cu12-11.4.5.107-py3-none-manylinux1_x86_64.whl (124.2 MB)\n",
            "Collecting nvidia-cusparse-cu12==12.1.0.106 (from torch>=1.10.0->accelerate)\n",
            "  Using cached nvidia_cusparse_cu12-12.1.0.106-py3-none-manylinux1_x86_64.whl (196.0 MB)\n",
            "Collecting nvidia-nccl-cu12==2.19.3 (from torch>=1.10.0->accelerate)\n",
            "  Using cached nvidia_nccl_cu12-2.19.3-py3-none-manylinux1_x86_64.whl (166.0 MB)\n",
            "Collecting nvidia-nvtx-cu12==12.1.105 (from torch>=1.10.0->accelerate)\n",
            "  Using cached nvidia_nvtx_cu12-12.1.105-py3-none-manylinux1_x86_64.whl (99 kB)\n",
            "Requirement already satisfied: triton==2.2.0 in /usr/local/lib/python3.10/dist-packages (from torch>=1.10.0->accelerate) (2.2.0)\n",
            "Collecting nvidia-nvjitlink-cu12 (from nvidia-cusolver-cu12==11.4.5.107->torch>=1.10.0->accelerate)\n",
            "  Using cached nvidia_nvjitlink_cu12-12.4.127-py3-none-manylinux2014_x86_64.whl (21.1 MB)\n",
            "Requirement already satisfied: requests in /usr/local/lib/python3.10/dist-packages (from huggingface-hub->accelerate) (2.31.0)\n",
            "Requirement already satisfied: tqdm>=4.42.1 in /usr/local/lib/python3.10/dist-packages (from huggingface-hub->accelerate) (4.66.2)\n",
            "Requirement already satisfied: MarkupSafe>=2.0 in /usr/local/lib/python3.10/dist-packages (from jinja2->torch>=1.10.0->accelerate) (2.1.5)\n",
            "Requirement already satisfied: charset-normalizer<4,>=2 in /usr/local/lib/python3.10/dist-packages (from requests->huggingface-hub->accelerate) (3.3.2)\n",
            "Requirement already satisfied: idna<4,>=2.5 in /usr/local/lib/python3.10/dist-packages (from requests->huggingface-hub->accelerate) (3.7)\n",
            "Requirement already satisfied: urllib3<3,>=1.21.1 in /usr/local/lib/python3.10/dist-packages (from requests->huggingface-hub->accelerate) (2.0.7)\n",
            "Requirement already satisfied: certifi>=2017.4.17 in /usr/local/lib/python3.10/dist-packages (from requests->huggingface-hub->accelerate) (2024.2.2)\n",
            "Requirement already satisfied: mpmath>=0.19 in /usr/local/lib/python3.10/dist-packages (from sympy->torch>=1.10.0->accelerate) (1.3.0)\n",
            "Installing collected packages: nvidia-nvtx-cu12, nvidia-nvjitlink-cu12, nvidia-nccl-cu12, nvidia-curand-cu12, nvidia-cufft-cu12, nvidia-cuda-runtime-cu12, nvidia-cuda-nvrtc-cu12, nvidia-cuda-cupti-cu12, nvidia-cublas-cu12, nvidia-cusparse-cu12, nvidia-cudnn-cu12, nvidia-cusolver-cu12, accelerate\n",
            "Successfully installed accelerate-0.29.3 nvidia-cublas-cu12-12.1.3.1 nvidia-cuda-cupti-cu12-12.1.105 nvidia-cuda-nvrtc-cu12-12.1.105 nvidia-cuda-runtime-cu12-12.1.105 nvidia-cudnn-cu12-8.9.2.26 nvidia-cufft-cu12-11.0.2.54 nvidia-curand-cu12-10.3.2.106 nvidia-cusolver-cu12-11.4.5.107 nvidia-cusparse-cu12-12.1.0.106 nvidia-nccl-cu12-2.19.3 nvidia-nvjitlink-cu12-12.4.127 nvidia-nvtx-cu12-12.1.105\n",
            "Reading package lists... Done\n",
            "Building dependency tree... Done\n",
            "Reading state information... Done\n",
            "git-lfs is already the newest version (3.0.2-1ubuntu0.2).\n",
            "0 upgraded, 0 newly installed, 0 to remove and 45 not upgraded.\n"
          ]
        }
      ],
      "source": [
        "!pip install datasets evaluate transformers[sentencepiece]\n",
        "!pip install accelerate\n",
        "# To run the training on TPU, you will need to uncomment the following line:\n",
        "# !pip install cloud-tpu-client==0.10 torch==1.9.0 https://storage.googleapis.com/tpu-pytorch/wheels/torch_xla-1.9-cp37-cp37m-linux_x86_64.whl\n",
        "!apt install git-lfs"
      ]
    },
    {
      "cell_type": "markdown",
      "source": [
        "log to Git"
      ],
      "metadata": {
        "id": "1kzCKO0TNV8i"
      }
    },
    {
      "cell_type": "code",
      "source": [
        "!git config --global user.email \"basile.plus-gourdon@ens-paris-saclay.fr\"\n",
        "!git config --global user.name \"basileplus\""
      ],
      "metadata": {
        "id": "-z5mWZl3MxRQ"
      },
      "execution_count": 3,
      "outputs": []
    },
    {
      "cell_type": "markdown",
      "source": [
        "log to HF"
      ],
      "metadata": {
        "id": "k0EKXAE-NUyx"
      }
    },
    {
      "cell_type": "code",
      "source": [
        "from huggingface_hub import notebook_login\n",
        "\n",
        "notebook_login()"
      ],
      "metadata": {
        "colab": {
          "base_uri": "https://localhost:8080/",
          "height": 415,
          "referenced_widgets": [
            "aa77ec82a228487e8b8296b045adc56e",
            "e59642f339164f1791ca45258276eccb",
            "02323a60dad84021827b2e2d830f34ff",
            "a34637a37c814c67b51f5fee39d16103",
            "bdd68e5982774ff194ee7be4a5efb631",
            "810cb9eca1f54c328736f67e0c0eb04c",
            "f0ed3c345c2e4094aa432f464749b009",
            "8af1c38df6a545179ccbb0bcbcbcdd52",
            "f080bcb7811b4cf888d572b77480d077",
            "331f32a4686c48dc9d8b120d1ae05324",
            "7f94d4a3d9944f8cb02194a3c4e948f3",
            "72f5e4ab60e3490b882b3af3f8b8152b",
            "9ca1ea540e844b5a92a5e37286b5e126",
            "04a35a2c95e34ad8b89e64cc27b6a199",
            "52b273f2d4c64a6ca28488f7cf12f23b",
            "762ba59e7dc6455187ce6be80e2c1aec",
            "75cb1da20df34eecb615f78cab44a26e"
          ]
        },
        "id": "NZ7zShUzNUNH",
        "outputId": "2c487ee4-8081-4a85-c969-ec99ecce4ccf"
      },
      "execution_count": 4,
      "outputs": [
        {
          "output_type": "display_data",
          "data": {
            "text/plain": [
              "VBox(children=(HTML(value='<center> <img\\nsrc=https://huggingface.co/front/assets/huggingface_logo-noborder.sv…"
            ],
            "application/vnd.jupyter.widget-view+json": {
              "version_major": 2,
              "version_minor": 0,
              "model_id": "aa77ec82a228487e8b8296b045adc56e"
            }
          },
          "metadata": {}
        }
      ]
    },
    {
      "cell_type": "markdown",
      "source": [
        "Load dataset"
      ],
      "metadata": {
        "id": "2Nv7nkELOZJi"
      }
    },
    {
      "cell_type": "code",
      "source": [
        "from datasets import load_dataset\n",
        "\n",
        "raw_datasets = load_dataset(\"stanfordnlp/coqa\")"
      ],
      "metadata": {
        "id": "0gmj6mcNObQz"
      },
      "execution_count": 77,
      "outputs": []
    },
    {
      "cell_type": "markdown",
      "source": [
        "Take a look a the dataset"
      ],
      "metadata": {
        "id": "Dr0PkuuqOlMH"
      }
    },
    {
      "cell_type": "code",
      "source": [
        "print(raw_datasets)"
      ],
      "metadata": {
        "colab": {
          "base_uri": "https://localhost:8080/"
        },
        "id": "cSwO7LiqOnfr",
        "outputId": "08af0333-4229-4a4f-8866-b4948b7084e9"
      },
      "execution_count": 78,
      "outputs": [
        {
          "output_type": "stream",
          "name": "stdout",
          "text": [
            "DatasetDict({\n",
            "    train: Dataset({\n",
            "        features: ['source', 'story', 'questions', 'answers'],\n",
            "        num_rows: 7199\n",
            "    })\n",
            "    validation: Dataset({\n",
            "        features: ['source', 'story', 'questions', 'answers'],\n",
            "        num_rows: 500\n",
            "    })\n",
            "})\n"
          ]
        }
      ]
    },
    {
      "cell_type": "code",
      "source": [
        "print(raw_datasets['train'].info.features)"
      ],
      "metadata": {
        "colab": {
          "base_uri": "https://localhost:8080/"
        },
        "id": "YiqgqiCxX4bg",
        "outputId": "9b05b29f-56da-436f-a1dd-f25ca09d27cf"
      },
      "execution_count": 8,
      "outputs": [
        {
          "output_type": "stream",
          "name": "stdout",
          "text": [
            "{'source': Value(dtype='string', id=None), 'story': Value(dtype='string', id=None), 'questions': Sequence(feature=Value(dtype='string', id=None), length=-1, id=None), 'answers': Sequence(feature={'input_text': Value(dtype='string', id=None), 'answer_start': Value(dtype='int32', id=None), 'answer_end': Value(dtype='int32', id=None)}, length=-1, id=None)}\n"
          ]
        }
      ]
    },
    {
      "cell_type": "markdown",
      "source": [
        "We format the dataset for it to fit the tutorial"
      ],
      "metadata": {
        "id": "dUDEZ0aIDeky"
      }
    },
    {
      "cell_type": "code",
      "source": [
        "def transform_example(batch):\n",
        "    sources = []\n",
        "    titles = []\n",
        "    contexts = []\n",
        "    questions = []\n",
        "    answer_texts = []\n",
        "    answer_starts = []\n",
        "    answer_ends = []\n",
        "\n",
        "    # Process each example in the batch\n",
        "    for idx in range(len(batch[\"story\"])):\n",
        "        # num_answers = len(batch['answers'][idx]['input_text'])\n",
        "        for num_question,question in enumerate(batch['questions'][idx]):\n",
        "            # for a_idx in range(num_answers):\n",
        "            sources.append(batch['source'][idx])\n",
        "            titles.append(None)\n",
        "            contexts.append(batch['story'][idx])\n",
        "            questions.append(question)\n",
        "            answer_texts.append(batch['answers'][idx]['input_text'][num_question])\n",
        "            answer_starts.append(batch['answers'][idx]['answer_start'][num_question])\n",
        "            answer_ends.append(batch['answers'][idx]['answer_end'][num_question])\n",
        "\n",
        "    # Return a dictionary with the new structure\n",
        "    return {\n",
        "        'source': sources,\n",
        "        'title': titles,\n",
        "        'context': contexts,\n",
        "        'question': questions,\n",
        "        'answer_text': answer_texts,  # Changed to separate field\n",
        "        'answer_start': answer_starts,  # Changed to separate field\n",
        "        'answer_end': answer_ends\n",
        "    }\n"
      ],
      "metadata": {
        "id": "iJ-q9K6hxTB0"
      },
      "execution_count": 174,
      "outputs": []
    },
    {
      "cell_type": "code",
      "source": [
        "from datasets import DatasetDict, concatenate_datasets\n",
        "\n",
        "# Apply transformation and flatten the results\n",
        "transformed_datasets = {}\n",
        "for split, dataset in raw_datasets.items():\n",
        "    # print(dataset.features)\n",
        "    print(\"split : \", split)\n",
        "    print(\"dataset : \", dataset)\n",
        "    transformed_datasets[split] = dataset.map(transform_example, batched=True, remove_columns=dataset.column_names)\n",
        "    # Flatten the list of lists into a single list of dicts\n",
        "\n",
        "# Convert back to DatasetDict if necessary\n",
        "transformed_dataset_dict = DatasetDict(transformed_datasets)\n",
        "\n"
      ],
      "metadata": {
        "colab": {
          "base_uri": "https://localhost:8080/",
          "height": 255,
          "referenced_widgets": [
            "09d3b69dc8034e69b62ecf8e7fecfb6c",
            "362cf91a9a5d40e696be4839631d4570",
            "b3fdd29055f84daf8ac70199d628e6a0",
            "78120e149b894eceb702cc9b62428d1e",
            "36f46e72381b445aa8e83501783fde10",
            "7e91a36324654cb4a52a909e6ace6d8e",
            "93e226d99ef8422599f44dab5b49ca34",
            "8d06b7678a1144bcb32a55e45d7dcb54",
            "f65f9bf26ad54c5ca22554f30ae8d7a1",
            "827632f5d2844b638a836277fe76f553",
            "14bb280af8c448bb9f4a2e8a7f7dec20",
            "67317c44cfd04786bff4f5e8667f4231",
            "129964854b514f69a390e7af61e5d75a",
            "72d1390fccdb47d499028c9bd61eaa33",
            "a81e949db017481188f24e80dcebba2f",
            "72be1555758e4bffb054812944fa9b82",
            "56c6979b17ae415bbb9a9d836d5ecc4f",
            "fbbc017520e84f5290c3f6d89567a2cb",
            "af6c645562504bc0851db90a92ed7f19",
            "7ec08c6e87724c8b8ab0034e16d65ec0",
            "991361468d5c4be49ef0801aa2184aae",
            "d249d6f0727f4fdaaa55df6599cd9890"
          ]
        },
        "id": "D8XkODrla9wK",
        "outputId": "563ee4b0-9759-4b38-fa2d-954a84e36727"
      },
      "execution_count": 175,
      "outputs": [
        {
          "output_type": "stream",
          "name": "stdout",
          "text": [
            "split :  train\n",
            "dataset :  Dataset({\n",
            "    features: ['source', 'story', 'questions', 'answers'],\n",
            "    num_rows: 7199\n",
            "})\n"
          ]
        },
        {
          "output_type": "display_data",
          "data": {
            "text/plain": [
              "Map:   0%|          | 0/7199 [00:00<?, ? examples/s]"
            ],
            "application/vnd.jupyter.widget-view+json": {
              "version_major": 2,
              "version_minor": 0,
              "model_id": "09d3b69dc8034e69b62ecf8e7fecfb6c"
            }
          },
          "metadata": {}
        },
        {
          "output_type": "stream",
          "name": "stdout",
          "text": [
            "split :  validation\n",
            "dataset :  Dataset({\n",
            "    features: ['source', 'story', 'questions', 'answers'],\n",
            "    num_rows: 500\n",
            "})\n"
          ]
        },
        {
          "output_type": "display_data",
          "data": {
            "text/plain": [
              "Map:   0%|          | 0/500 [00:00<?, ? examples/s]"
            ],
            "application/vnd.jupyter.widget-view+json": {
              "version_major": 2,
              "version_minor": 0,
              "model_id": "67317c44cfd04786bff4f5e8667f4231"
            }
          },
          "metadata": {}
        }
      ]
    },
    {
      "cell_type": "code",
      "source": [
        "dataset = transformed_dataset_dict\n",
        "dataset"
      ],
      "metadata": {
        "colab": {
          "base_uri": "https://localhost:8080/"
        },
        "id": "oXUoWwHn0h8v",
        "outputId": "fd7c971a-c4d6-4df3-e1a4-24293cc593e5"
      },
      "execution_count": 176,
      "outputs": [
        {
          "output_type": "execute_result",
          "data": {
            "text/plain": [
              "DatasetDict({\n",
              "    train: Dataset({\n",
              "        features: ['source', 'title', 'context', 'question', 'answer_text', 'answer_start', 'answer_end'],\n",
              "        num_rows: 108647\n",
              "    })\n",
              "    validation: Dataset({\n",
              "        features: ['source', 'title', 'context', 'question', 'answer_text', 'answer_start', 'answer_end'],\n",
              "        num_rows: 7983\n",
              "    })\n",
              "})"
            ]
          },
          "metadata": {},
          "execution_count": 176
        }
      ]
    },
    {
      "cell_type": "code",
      "source": [
        "print(dataset[\"train\"][\"question\"][0:25])\n",
        "print(dataset[\"train\"][\"answer_text\"][0:25])\n"
      ],
      "metadata": {
        "colab": {
          "base_uri": "https://localhost:8080/"
        },
        "id": "ohWIkihYQRu3",
        "outputId": "fb0dec57-724d-43ca-a67f-6b44ce2fdb9f"
      },
      "execution_count": 141,
      "outputs": [
        {
          "output_type": "stream",
          "name": "stdout",
          "text": [
            "['When was the Vat formally opened?', 'what is the library for?', 'for what subjects?', 'and?', 'what was started in 2014?', 'how do scholars divide the library?', 'how many?', 'what is the official name of the Vat?', 'where is it?', 'how many printed books does it contain?', 'when were the Secret Archives moved from the rest of the library?', 'how many items are in this secret collection?', 'Can anyone use this library?', 'what must be requested to view?', 'what must be requested in person or by mail?', 'of what books?', 'What is the Vat the library of?', 'How many books survived the Pre Lateran period?', 'what is the point of the project started in 2014?', 'what will this allow?', 'Where was the Auction held?', 'How much did they make?', 'How much did they expected?', 'WHo buy the Jackson Glove', 'Where was the buyer of the glove from?']\n",
            "['It was formally established in 1475', 'research', 'history, and law', 'philosophy, science and theology', 'a  project', 'into periods', 'five', 'The Vatican Apostolic Library', 'in Vatican City', '1.1 million', 'at the beginning of the 17th century;', '150,000', 'anyone who can document their qualifications and research needs.', 'unknown', 'Photocopies', 'only books published between 1801 and 1990', 'the Holy See', 'a handful of volumes', 'digitising manuscripts', 'them to be viewed online.', 'Hard Rock Cafe', '$2 million.', '$120,000', 'Hoffman Ma', 'Macau']\n"
          ]
        }
      ]
    },
    {
      "cell_type": "markdown",
      "source": [
        "Create tokenizer"
      ],
      "metadata": {
        "id": "QMppi_TfdFSU"
      }
    },
    {
      "cell_type": "code",
      "source": [
        "from transformers import AutoTokenizer\n",
        "\n",
        "model_checkpoint = \"bert-base-cased\"\n",
        "tokenizer = AutoTokenizer.from_pretrained(model_checkpoint)"
      ],
      "metadata": {
        "colab": {
          "base_uri": "https://localhost:8080/",
          "height": 145,
          "referenced_widgets": [
            "c163db52693142a086694030a9dc1b0d",
            "4de83fbc50be4914a72e7e45f075dbb6",
            "d472d7adbbf644fb9fec3ec05ab151a5",
            "5a763978536f432fb609eb4bf2efa841",
            "dd3058a5aafb440fb7e12cfb27e38aef",
            "b6d3c111485943a3b05db84c3e41787b",
            "646080005f014c5d99d87a0e894ea312",
            "04eb71dc91ad43cc840007fbd69574aa",
            "49f841b8297d483ead24af9236555766",
            "efccb2985a0d416793aa36f68ff0449a",
            "5ca16d9e412a4a01949d3a98d03f5f02",
            "4f21693b2ba041ffb29a3654002084ec",
            "ece3bcdb687b43df8509b6092e3b9cef",
            "c686756a888b4736976876005b57b219",
            "0d240d8daef24436864f1bcbd13fe00e",
            "96ea4ca5e43b4fd8b9a320cef85803e7",
            "8ceacd302def4d20a2ccbb4572dc053f",
            "9f6d31ddc50e491fbcdbefeaf9341248",
            "14ce141e3be84741b076a1f2be1278c1",
            "a6b2254dc21b4083aede3e87725e8e61",
            "25995a2fb373451d9d3a98f5c0bf6490",
            "3ddb8074299e4d4e843098af9f55cdf9",
            "6b28c2ce4e87457ea3ffce6e4a5ba5ec",
            "14be3957c1d9409383a441ca4f59a00f",
            "dc87c9082d7e44cda3bead85d5b04989",
            "fc3d802b019b435cb4fad25c6148084d",
            "4f5b1ea886cf446baaed9864729b92cf",
            "c76d530d3c114357b42b94818c0ddafc",
            "2d934299ed9e48d7a03477ec82112227",
            "ee6a644600964149b083408c346d101a",
            "113fa6356e2d4828a0b2b346d5a03b28",
            "ca98d61076aa4fdd9c97b98618aeba41",
            "866edb9166aa4e4185459e40f38ba842",
            "ad52eb19e4bf45ecba66f6de5ed76cf8",
            "90eedbacb8f141e9bc527fb31cfd5e1c",
            "07392e0f54e14653b9a0e4818cc8023a",
            "f37c03b5d22e43cd9ade7ac2d817d6ec",
            "8ed0a50b65a449619a21d07c9a4de6e0",
            "7a7569bc4f354deeb5c686f9e72325c9",
            "69bd2cd6a6d74a65ae96942983f52e9d",
            "12150d7abd4e4e0ca40a5e7791f2a124",
            "fa74171c48d0432ea78a2339fd1915cf",
            "e2552b0c381a454988fb107f859b39d8",
            "1b0e2ccc454e45f9958aaa73e9c0eb3e"
          ]
        },
        "id": "eYXSI6nBdH73",
        "outputId": "6d816cf4-19d5-42bb-8ea9-fceaf3cdecf6"
      },
      "execution_count": 142,
      "outputs": [
        {
          "output_type": "display_data",
          "data": {
            "text/plain": [
              "tokenizer_config.json:   0%|          | 0.00/49.0 [00:00<?, ?B/s]"
            ],
            "application/vnd.jupyter.widget-view+json": {
              "version_major": 2,
              "version_minor": 0,
              "model_id": "c163db52693142a086694030a9dc1b0d"
            }
          },
          "metadata": {}
        },
        {
          "output_type": "display_data",
          "data": {
            "text/plain": [
              "config.json:   0%|          | 0.00/570 [00:00<?, ?B/s]"
            ],
            "application/vnd.jupyter.widget-view+json": {
              "version_major": 2,
              "version_minor": 0,
              "model_id": "4f21693b2ba041ffb29a3654002084ec"
            }
          },
          "metadata": {}
        },
        {
          "output_type": "display_data",
          "data": {
            "text/plain": [
              "vocab.txt:   0%|          | 0.00/213k [00:00<?, ?B/s]"
            ],
            "application/vnd.jupyter.widget-view+json": {
              "version_major": 2,
              "version_minor": 0,
              "model_id": "6b28c2ce4e87457ea3ffce6e4a5ba5ec"
            }
          },
          "metadata": {}
        },
        {
          "output_type": "display_data",
          "data": {
            "text/plain": [
              "tokenizer.json:   0%|          | 0.00/436k [00:00<?, ?B/s]"
            ],
            "application/vnd.jupyter.widget-view+json": {
              "version_major": 2,
              "version_minor": 0,
              "model_id": "ad52eb19e4bf45ecba66f6de5ed76cf8"
            }
          },
          "metadata": {}
        }
      ]
    },
    {
      "cell_type": "markdown",
      "source": [
        "Always normalize data"
      ],
      "metadata": {
        "id": "ymh8LkHvdhhc"
      }
    },
    {
      "cell_type": "code",
      "source": [
        "questions = dataset[\"train\"][\"question\"][0:3]\n",
        "contexts = dataset[\"train\"][\"context\"][0:3]\n",
        "answers = dataset[\"train\"][\"answer_text\"][0:3]"
      ],
      "metadata": {
        "id": "Hl_GZVPE9Wih"
      },
      "execution_count": 177,
      "outputs": []
    },
    {
      "cell_type": "code",
      "source": [
        "inputs = tokenizer(\n",
        "    questions,\n",
        "    contexts,\n",
        "    max_length=100,\n",
        "    truncation=\"only_second\",\n",
        "    stride=50,\n",
        "    return_overflowing_tokens=True,\n",
        "    return_offsets_mapping=True,\n",
        ")\n",
        "\n",
        "for ids in inputs[\"input_ids\"]:\n",
        "  print(tokenizer.decode(ids))"
      ],
      "metadata": {
        "colab": {
          "base_uri": "https://localhost:8080/"
        },
        "id": "1EgAWiWzy4nx",
        "outputId": "be055b2e-7e7a-4f85-bc1a-e532ae20060a"
      },
      "execution_count": 178,
      "outputs": [
        {
          "output_type": "stream",
          "name": "stdout",
          "text": [
            "[CLS] When was the Vat formally opened? [SEP] The Vatican Apostolic Library ( ), more commonly called the Vatican Library or simply the Vat, is the library of the Holy See, located in Vatican City. Formally established in 1475, although it is much older, it is one of the oldest libraries in the world and contains one of the most significant collections of historical texts. It has 75, 000 codices from throughout history, as well as 1. 1 million printed books, which [SEP]\n",
            "[CLS] When was the Vat formally opened? [SEP] although it is much older, it is one of the oldest libraries in the world and contains one of the most significant collections of historical texts. It has 75, 000 codices from throughout history, as well as 1. 1 million printed books, which include some 8, 500 incunabula. The Vatican Library is a research library for history, law, philosophy, science and theology. The Vatican Library is open to anyone who can document their [SEP]\n",
            "[CLS] When was the Vat formally opened? [SEP] as well as 1. 1 million printed books, which include some 8, 500 incunabula. The Vatican Library is a research library for history, law, philosophy, science and theology. The Vatican Library is open to anyone who can document their qualifications and research needs. Photocopies for private study of pages from books published between 1801 and 1990 can be requested in person or by mail. In March 2014, the Vatican Library began an initial [SEP]\n",
            "[CLS] When was the Vat formally opened? [SEP] The Vatican Library is open to anyone who can document their qualifications and research needs. Photocopies for private study of pages from books published between 1801 and 1990 can be requested in person or by mail. In March 2014, the Vatican Library began an initial four - year project of digitising its collection of manuscripts, to be made available online. The Vatican Secret Archives were separated from the library at the beginning of the 17th century ; they contain another 150 [SEP]\n",
            "[CLS] When was the Vat formally opened? [SEP]. In March 2014, the Vatican Library began an initial four - year project of digitising its collection of manuscripts, to be made available online. The Vatican Secret Archives were separated from the library at the beginning of the 17th century ; they contain another 150, 000 items. Scholars have traditionally divided the history of the library into five periods, Pre - Lateran, Lateran, Avignon, Pre - Vatican and Vatican. The Pre - Lateran [SEP]\n",
            "[CLS] When was the Vat formally opened? [SEP] the beginning of the 17th century ; they contain another 150, 000 items. Scholars have traditionally divided the history of the library into five periods, Pre - Lateran, Lateran, Avignon, Pre - Vatican and Vatican. The Pre - Lateran period, comprising the initial days of the library, dated from the earliest days of the Church. Only a handful of volumes survive from this period, though some are very significant. [SEP]\n",
            "[CLS] what is the library for? [SEP] The Vatican Apostolic Library ( ), more commonly called the Vatican Library or simply the Vat, is the library of the Holy See, located in Vatican City. Formally established in 1475, although it is much older, it is one of the oldest libraries in the world and contains one of the most significant collections of historical texts. It has 75, 000 codices from throughout history, as well as 1. 1 million printed books, which include some [SEP]\n",
            "[CLS] what is the library for? [SEP] is much older, it is one of the oldest libraries in the world and contains one of the most significant collections of historical texts. It has 75, 000 codices from throughout history, as well as 1. 1 million printed books, which include some 8, 500 incunabula. The Vatican Library is a research library for history, law, philosophy, science and theology. The Vatican Library is open to anyone who can document their qualifications and research needs [SEP]\n",
            "[CLS] what is the library for? [SEP]. 1 million printed books, which include some 8, 500 incunabula. The Vatican Library is a research library for history, law, philosophy, science and theology. The Vatican Library is open to anyone who can document their qualifications and research needs. Photocopies for private study of pages from books published between 1801 and 1990 can be requested in person or by mail. In March 2014, the Vatican Library began an initial four - year project of digit [SEP]\n",
            "[CLS] what is the library for? [SEP] anyone who can document their qualifications and research needs. Photocopies for private study of pages from books published between 1801 and 1990 can be requested in person or by mail. In March 2014, the Vatican Library began an initial four - year project of digitising its collection of manuscripts, to be made available online. The Vatican Secret Archives were separated from the library at the beginning of the 17th century ; they contain another 150, 000 items. Scholars have traditionally divided [SEP]\n",
            "[CLS] what is the library for? [SEP] began an initial four - year project of digitising its collection of manuscripts, to be made available online. The Vatican Secret Archives were separated from the library at the beginning of the 17th century ; they contain another 150, 000 items. Scholars have traditionally divided the history of the library into five periods, Pre - Lateran, Lateran, Avignon, Pre - Vatican and Vatican. The Pre - Lateran period, comprising the initial days of the library, [SEP]\n",
            "[CLS] what is the library for? [SEP] 150, 000 items. Scholars have traditionally divided the history of the library into five periods, Pre - Lateran, Lateran, Avignon, Pre - Vatican and Vatican. The Pre - Lateran period, comprising the initial days of the library, dated from the earliest days of the Church. Only a handful of volumes survive from this period, though some are very significant. [SEP]\n",
            "[CLS] for what subjects? [SEP] The Vatican Apostolic Library ( ), more commonly called the Vatican Library or simply the Vat, is the library of the Holy See, located in Vatican City. Formally established in 1475, although it is much older, it is one of the oldest libraries in the world and contains one of the most significant collections of historical texts. It has 75, 000 codices from throughout history, as well as 1. 1 million printed books, which include some 8, [SEP]\n",
            "[CLS] for what subjects? [SEP] older, it is one of the oldest libraries in the world and contains one of the most significant collections of historical texts. It has 75, 000 codices from throughout history, as well as 1. 1 million printed books, which include some 8, 500 incunabula. The Vatican Library is a research library for history, law, philosophy, science and theology. The Vatican Library is open to anyone who can document their qualifications and research needs. Photocopies [SEP]\n",
            "[CLS] for what subjects? [SEP] books, which include some 8, 500 incunabula. The Vatican Library is a research library for history, law, philosophy, science and theology. The Vatican Library is open to anyone who can document their qualifications and research needs. Photocopies for private study of pages from books published between 1801 and 1990 can be requested in person or by mail. In March 2014, the Vatican Library began an initial four - year project of digitising its collection of manuscripts, [SEP]\n",
            "[CLS] for what subjects? [SEP] and research needs. Photocopies for private study of pages from books published between 1801 and 1990 can be requested in person or by mail. In March 2014, the Vatican Library began an initial four - year project of digitising its collection of manuscripts, to be made available online. The Vatican Secret Archives were separated from the library at the beginning of the 17th century ; they contain another 150, 000 items. Scholars have traditionally divided the history of the library into five periods [SEP]\n",
            "[CLS] for what subjects? [SEP] digitising its collection of manuscripts, to be made available online. The Vatican Secret Archives were separated from the library at the beginning of the 17th century ; they contain another 150, 000 items. Scholars have traditionally divided the history of the library into five periods, Pre - Lateran, Lateran, Avignon, Pre - Vatican and Vatican. The Pre - Lateran period, comprising the initial days of the library, dated from the earliest days of the Church. Only [SEP]\n",
            "[CLS] for what subjects? [SEP] history of the library into five periods, Pre - Lateran, Lateran, Avignon, Pre - Vatican and Vatican. The Pre - Lateran period, comprising the initial days of the library, dated from the earliest days of the Church. Only a handful of volumes survive from this period, though some are very significant. [SEP]\n"
          ]
        }
      ]
    },
    {
      "cell_type": "markdown",
      "source": [
        "- max_length to set the maximum length (here 100)\n",
        "- truncation=\"only_second\" to truncate the context (which is in the second position) when the question with its context is too long\n",
        "- stride to set the number of overlapping tokens between two successive chunks (here 50)\n",
        "- return_overflowing_tokens=True to let the tokenizer know we want the overflowing tokens"
      ],
      "metadata": {
        "id": "y-xLf--gesmj"
      }
    },
    {
      "cell_type": "markdown",
      "source": [
        "Context has been split in parts because too long"
      ],
      "metadata": {
        "id": "k-3xhX7We9vB"
      }
    },
    {
      "cell_type": "code",
      "source": [
        "print(f\"The 3 examples gave {len(inputs['input_ids'])} features.\")\n",
        "print(f\"Here is where each comes from: {inputs['overflow_to_sample_mapping']}.\")"
      ],
      "metadata": {
        "colab": {
          "base_uri": "https://localhost:8080/"
        },
        "id": "kRAFZok5kCS6",
        "outputId": "1a9bdfc7-ea72-49dd-f941-ee8ee50895ea"
      },
      "execution_count": 147,
      "outputs": [
        {
          "output_type": "stream",
          "name": "stdout",
          "text": [
            "The 3 examples gave 18 features.\n",
            "Here is where each comes from: [0, 0, 0, 0, 0, 0, 1, 1, 1, 1, 1, 1, 2, 2, 2, 2, 2, 2].\n"
          ]
        }
      ]
    },
    {
      "cell_type": "markdown",
      "source": [
        "with ``inputs['overflow_to_sample_mapping']`` we keep track of from wich subsection of the truncated context we are talking\n",
        "\n"
      ],
      "metadata": {
        "id": "fE7OftkYkIdp"
      }
    },
    {
      "cell_type": "markdown",
      "source": [
        "We then correct the inputs to create correct labels :\n",
        "\n",
        "*   If the answer is in the sequence, labels are start and end indices of answer\n",
        "*   Otherwise start=end=0\n",
        "\n"
      ],
      "metadata": {
        "id": "RFlu_7knnZ-U"
      }
    },
    {
      "cell_type": "code",
      "source": [
        "print(answers)"
      ],
      "metadata": {
        "colab": {
          "base_uri": "https://localhost:8080/"
        },
        "id": "xuMkLub_EML6",
        "outputId": "403f48eb-e8d2-40bd-c080-d48539b19925"
      },
      "execution_count": 149,
      "outputs": [
        {
          "output_type": "stream",
          "name": "stdout",
          "text": [
            "['It was formally established in 1475', 'research', 'history, and law']\n"
          ]
        }
      ]
    },
    {
      "cell_type": "markdown",
      "source": [
        "offset mapping = beginning and end of token in real text"
      ],
      "metadata": {
        "id": "OYoALG40GBcD"
      }
    },
    {
      "cell_type": "code",
      "source": [
        "print(inputs[\"offset_mapping\"])"
      ],
      "metadata": {
        "colab": {
          "base_uri": "https://localhost:8080/"
        },
        "id": "NZKaX91XFTuI",
        "outputId": "ffab70c3-9b89-447a-8885-98e0f1d54a2a"
      },
      "execution_count": 74,
      "outputs": [
        {
          "output_type": "stream",
          "name": "stdout",
          "text": [
            "[[(0, 0), (0, 4), (5, 8), (9, 12), (13, 14), (14, 16), (17, 25), (26, 32), (32, 33), (0, 0), (0, 3), (4, 11), (12, 21), (22, 29), (30, 31), (31, 32), (32, 33), (34, 38), (39, 47), (48, 54), (55, 58), (59, 66), (67, 74), (75, 77), (78, 84), (85, 88), (89, 90), (90, 92), (92, 93), (94, 96), (97, 100), (101, 108), (109, 111), (112, 115), (116, 120), (121, 124), (124, 125), (126, 133), (134, 136), (137, 144), (145, 149), (149, 150), (151, 155), (155, 159), (160, 171), (172, 174), (175, 178), (178, 179), (179, 180), (181, 189), (190, 192), (193, 195), (196, 200), (201, 206), (206, 207), (208, 210), (211, 213), (214, 217), (218, 220), (221, 224), (225, 231), (232, 241), (242, 244), (245, 248), (249, 254), (255, 258), (259, 267), (268, 271), (272, 274), (275, 278), (279, 283), (284, 295), (296, 307), (308, 310), (311, 321), (322, 327), (327, 328), (329, 331), (332, 335), (336, 338), (338, 339), (339, 342), (343, 345), (345, 350), (351, 355), (356, 366), (367, 374), (374, 375), (376, 378), (379, 383), (384, 386), (387, 388), (388, 389), (389, 390), (391, 398), (399, 406), (407, 412), (412, 413), (414, 419), (0, 0)], [(0, 0), (0, 4), (5, 8), (9, 12), (13, 14), (14, 16), (17, 25), (26, 32), (32, 33), (0, 0), (181, 189), (190, 192), (193, 195), (196, 200), (201, 206), (206, 207), (208, 210), (211, 213), (214, 217), (218, 220), (221, 224), (225, 231), (232, 241), (242, 244), (245, 248), (249, 254), (255, 258), (259, 267), (268, 271), (272, 274), (275, 278), (279, 283), (284, 295), (296, 307), (308, 310), (311, 321), (322, 327), (327, 328), (329, 331), (332, 335), (336, 338), (338, 339), (339, 342), (343, 345), (345, 350), (351, 355), (356, 366), (367, 374), (374, 375), (376, 378), (379, 383), (384, 386), (387, 388), (388, 389), (389, 390), (391, 398), (399, 406), (407, 412), (412, 413), (414, 419), (420, 427), (428, 432), (433, 434), (434, 435), (435, 438), (439, 441), (441, 443), (443, 445), (445, 449), (449, 450), (453, 456), (457, 464), (465, 472), (473, 475), (476, 477), (478, 486), (487, 494), (495, 498), (499, 506), (506, 507), (508, 511), (511, 512), (513, 523), (523, 524), (525, 532), (533, 536), (537, 545), (545, 546), (547, 550), (551, 558), (559, 566), (567, 569), (570, 574), (575, 577), (578, 584), (585, 588), (589, 592), (593, 601), (602, 607), (0, 0)], [(0, 0), (0, 4), (5, 8), (9, 12), (13, 14), (14, 16), (17, 25), (26, 32), (32, 33), (0, 0), (376, 378), (379, 383), (384, 386), (387, 388), (388, 389), (389, 390), (391, 398), (399, 406), (407, 412), (412, 413), (414, 419), (420, 427), (428, 432), (433, 434), (434, 435), (435, 438), (439, 441), (441, 443), (443, 445), (445, 449), (449, 450), (453, 456), (457, 464), (465, 472), (473, 475), (476, 477), (478, 486), (487, 494), (495, 498), (499, 506), (506, 507), (508, 511), (511, 512), (513, 523), (523, 524), (525, 532), (533, 536), (537, 545), (545, 546), (547, 550), (551, 558), (559, 566), (567, 569), (570, 574), (575, 577), (578, 584), (585, 588), (589, 592), (593, 601), (602, 607), (608, 622), (623, 626), (627, 635), (636, 641), (641, 642), (643, 648), (648, 650), (650, 654), (655, 658), (659, 666), (667, 672), (673, 675), (676, 681), (682, 686), (687, 692), (693, 702), (703, 710), (711, 715), (716, 719), (720, 724), (725, 728), (729, 731), (732, 741), (742, 744), (745, 751), (752, 754), (755, 757), (758, 762), (762, 763), (766, 768), (769, 774), (775, 779), (779, 780), (781, 784), (785, 792), (793, 800), (801, 806), (807, 809), (810, 817), (0, 0)], [(0, 0), (0, 4), (5, 8), (9, 12), (13, 14), (14, 16), (17, 25), (26, 32), (32, 33), (0, 0), (547, 550), (551, 558), (559, 566), (567, 569), (570, 574), (575, 577), (578, 584), (585, 588), (589, 592), (593, 601), (602, 607), (608, 622), (623, 626), (627, 635), (636, 641), (641, 642), (643, 648), (648, 650), (650, 654), (655, 658), (659, 666), (667, 672), (673, 675), (676, 681), (682, 686), (687, 692), (693, 702), (703, 710), (711, 715), (716, 719), (720, 724), (725, 728), (729, 731), (732, 741), (742, 744), (745, 751), (752, 754), (755, 757), (758, 762), (762, 763), (766, 768), (769, 774), (775, 779), (779, 780), (781, 784), (785, 792), (793, 800), (801, 806), (807, 809), (810, 817), (818, 822), (822, 823), (823, 827), (828, 835), (836, 838), (839, 844), (844, 849), (850, 853), (854, 864), (865, 867), (868, 879), (879, 880), (881, 883), (884, 886), (887, 891), (892, 901), (902, 908), (908, 909), (912, 915), (916, 923), (924, 930), (931, 939), (940, 944), (945, 954), (955, 959), (960, 963), (964, 971), (972, 974), (975, 978), (979, 988), (989, 991), (992, 995), (996, 1000), (1001, 1008), (1008, 1009), (1010, 1014), (1015, 1022), (1023, 1030), (1031, 1034), (0, 0)], [(0, 0), (0, 4), (5, 8), (9, 12), (13, 14), (14, 16), (17, 25), (26, 32), (32, 33), (0, 0), (762, 763), (766, 768), (769, 774), (775, 779), (779, 780), (781, 784), (785, 792), (793, 800), (801, 806), (807, 809), (810, 817), (818, 822), (822, 823), (823, 827), (828, 835), (836, 838), (839, 844), (844, 849), (850, 853), (854, 864), (865, 867), (868, 879), (879, 880), (881, 883), (884, 886), (887, 891), (892, 901), (902, 908), (908, 909), (912, 915), (916, 923), (924, 930), (931, 939), (940, 944), (945, 954), (955, 959), (960, 963), (964, 971), (972, 974), (975, 978), (979, 988), (989, 991), (992, 995), (996, 1000), (1001, 1008), (1008, 1009), (1010, 1014), (1015, 1022), (1023, 1030), (1031, 1034), (1034, 1035), (1035, 1038), (1039, 1044), (1044, 1045), (1048, 1056), (1057, 1061), (1062, 1075), (1076, 1083), (1084, 1087), (1088, 1095), (1096, 1098), (1099, 1102), (1103, 1110), (1111, 1115), (1116, 1120), (1121, 1128), (1128, 1129), (1130, 1133), (1133, 1134), (1134, 1139), (1139, 1141), (1141, 1142), (1143, 1148), (1148, 1150), (1150, 1151), (1152, 1153), (1153, 1159), (1159, 1160), (1161, 1164), (1164, 1165), (1165, 1172), (1173, 1176), (1177, 1184), (1184, 1185), (1188, 1191), (1192, 1195), (1195, 1196), (1196, 1201), (1201, 1203), (0, 0)], [(0, 0), (0, 4), (5, 8), (9, 12), (13, 14), (14, 16), (17, 25), (26, 32), (32, 33), (0, 0), (975, 978), (979, 988), (989, 991), (992, 995), (996, 1000), (1001, 1008), (1008, 1009), (1010, 1014), (1015, 1022), (1023, 1030), (1031, 1034), (1034, 1035), (1035, 1038), (1039, 1044), (1044, 1045), (1048, 1056), (1057, 1061), (1062, 1075), (1076, 1083), (1084, 1087), (1088, 1095), (1096, 1098), (1099, 1102), (1103, 1110), (1111, 1115), (1116, 1120), (1121, 1128), (1128, 1129), (1130, 1133), (1133, 1134), (1134, 1139), (1139, 1141), (1141, 1142), (1143, 1148), (1148, 1150), (1150, 1151), (1152, 1153), (1153, 1159), (1159, 1160), (1161, 1164), (1164, 1165), (1165, 1172), (1173, 1176), (1177, 1184), (1184, 1185), (1188, 1191), (1192, 1195), (1195, 1196), (1196, 1201), (1201, 1203), (1204, 1210), (1210, 1211), (1212, 1222), (1223, 1226), (1227, 1234), (1235, 1239), (1240, 1242), (1243, 1246), (1247, 1254), (1254, 1255), (1256, 1261), (1262, 1266), (1267, 1270), (1271, 1279), (1280, 1284), (1285, 1287), (1288, 1291), (1292, 1298), (1298, 1299), (1300, 1304), (1305, 1306), (1307, 1314), (1315, 1317), (1318, 1325), (1326, 1333), (1334, 1338), (1339, 1343), (1344, 1350), (1350, 1351), (1352, 1358), (1359, 1363), (1364, 1367), (1368, 1372), (1373, 1384), (1384, 1385), (0, 0)], [(0, 0), (0, 4), (5, 7), (8, 11), (12, 19), (20, 23), (23, 24), (0, 0), (0, 3), (4, 11), (12, 21), (22, 29), (30, 31), (31, 32), (32, 33), (34, 38), (39, 47), (48, 54), (55, 58), (59, 66), (67, 74), (75, 77), (78, 84), (85, 88), (89, 90), (90, 92), (92, 93), (94, 96), (97, 100), (101, 108), (109, 111), (112, 115), (116, 120), (121, 124), (124, 125), (126, 133), (134, 136), (137, 144), (145, 149), (149, 150), (151, 155), (155, 159), (160, 171), (172, 174), (175, 178), (178, 179), (179, 180), (181, 189), (190, 192), (193, 195), (196, 200), (201, 206), (206, 207), (208, 210), (211, 213), (214, 217), (218, 220), (221, 224), (225, 231), (232, 241), (242, 244), (245, 248), (249, 254), (255, 258), (259, 267), (268, 271), (272, 274), (275, 278), (279, 283), (284, 295), (296, 307), (308, 310), (311, 321), (322, 327), (327, 328), (329, 331), (332, 335), (336, 338), (338, 339), (339, 342), (343, 345), (345, 350), (351, 355), (356, 366), (367, 374), (374, 375), (376, 378), (379, 383), (384, 386), (387, 388), (388, 389), (389, 390), (391, 398), (399, 406), (407, 412), (412, 413), (414, 419), (420, 427), (428, 432), (0, 0)], [(0, 0), (0, 4), (5, 7), (8, 11), (12, 19), (20, 23), (23, 24), (0, 0), (193, 195), (196, 200), (201, 206), (206, 207), (208, 210), (211, 213), (214, 217), (218, 220), (221, 224), (225, 231), (232, 241), (242, 244), (245, 248), (249, 254), (255, 258), (259, 267), (268, 271), (272, 274), (275, 278), (279, 283), (284, 295), (296, 307), (308, 310), (311, 321), (322, 327), (327, 328), (329, 331), (332, 335), (336, 338), (338, 339), (339, 342), (343, 345), (345, 350), (351, 355), (356, 366), (367, 374), (374, 375), (376, 378), (379, 383), (384, 386), (387, 388), (388, 389), (389, 390), (391, 398), (399, 406), (407, 412), (412, 413), (414, 419), (420, 427), (428, 432), (433, 434), (434, 435), (435, 438), (439, 441), (441, 443), (443, 445), (445, 449), (449, 450), (453, 456), (457, 464), (465, 472), (473, 475), (476, 477), (478, 486), (487, 494), (495, 498), (499, 506), (506, 507), (508, 511), (511, 512), (513, 523), (523, 524), (525, 532), (533, 536), (537, 545), (545, 546), (547, 550), (551, 558), (559, 566), (567, 569), (570, 574), (575, 577), (578, 584), (585, 588), (589, 592), (593, 601), (602, 607), (608, 622), (623, 626), (627, 635), (636, 641), (0, 0)], [(0, 0), (0, 4), (5, 7), (8, 11), (12, 19), (20, 23), (23, 24), (0, 0), (388, 389), (389, 390), (391, 398), (399, 406), (407, 412), (412, 413), (414, 419), (420, 427), (428, 432), (433, 434), (434, 435), (435, 438), (439, 441), (441, 443), (443, 445), (445, 449), (449, 450), (453, 456), (457, 464), (465, 472), (473, 475), (476, 477), (478, 486), (487, 494), (495, 498), (499, 506), (506, 507), (508, 511), (511, 512), (513, 523), (523, 524), (525, 532), (533, 536), (537, 545), (545, 546), (547, 550), (551, 558), (559, 566), (567, 569), (570, 574), (575, 577), (578, 584), (585, 588), (589, 592), (593, 601), (602, 607), (608, 622), (623, 626), (627, 635), (636, 641), (641, 642), (643, 648), (648, 650), (650, 654), (655, 658), (659, 666), (667, 672), (673, 675), (676, 681), (682, 686), (687, 692), (693, 702), (703, 710), (711, 715), (716, 719), (720, 724), (725, 728), (729, 731), (732, 741), (742, 744), (745, 751), (752, 754), (755, 757), (758, 762), (762, 763), (766, 768), (769, 774), (775, 779), (779, 780), (781, 784), (785, 792), (793, 800), (801, 806), (807, 809), (810, 817), (818, 822), (822, 823), (823, 827), (828, 835), (836, 838), (839, 844), (0, 0)], [(0, 0), (0, 4), (5, 7), (8, 11), (12, 19), (20, 23), (23, 24), (0, 0), (578, 584), (585, 588), (589, 592), (593, 601), (602, 607), (608, 622), (623, 626), (627, 635), (636, 641), (641, 642), (643, 648), (648, 650), (650, 654), (655, 658), (659, 666), (667, 672), (673, 675), (676, 681), (682, 686), (687, 692), (693, 702), (703, 710), (711, 715), (716, 719), (720, 724), (725, 728), (729, 731), (732, 741), (742, 744), (745, 751), (752, 754), (755, 757), (758, 762), (762, 763), (766, 768), (769, 774), (775, 779), (779, 780), (781, 784), (785, 792), (793, 800), (801, 806), (807, 809), (810, 817), (818, 822), (822, 823), (823, 827), (828, 835), (836, 838), (839, 844), (844, 849), (850, 853), (854, 864), (865, 867), (868, 879), (879, 880), (881, 883), (884, 886), (887, 891), (892, 901), (902, 908), (908, 909), (912, 915), (916, 923), (924, 930), (931, 939), (940, 944), (945, 954), (955, 959), (960, 963), (964, 971), (972, 974), (975, 978), (979, 988), (989, 991), (992, 995), (996, 1000), (1001, 1008), (1008, 1009), (1010, 1014), (1015, 1022), (1023, 1030), (1031, 1034), (1034, 1035), (1035, 1038), (1039, 1044), (1044, 1045), (1048, 1056), (1057, 1061), (1062, 1075), (1076, 1083), (0, 0)], [(0, 0), (0, 4), (5, 7), (8, 11), (12, 19), (20, 23), (23, 24), (0, 0), (801, 806), (807, 809), (810, 817), (818, 822), (822, 823), (823, 827), (828, 835), (836, 838), (839, 844), (844, 849), (850, 853), (854, 864), (865, 867), (868, 879), (879, 880), (881, 883), (884, 886), (887, 891), (892, 901), (902, 908), (908, 909), (912, 915), (916, 923), (924, 930), (931, 939), (940, 944), (945, 954), (955, 959), (960, 963), (964, 971), (972, 974), (975, 978), (979, 988), (989, 991), (992, 995), (996, 1000), (1001, 1008), (1008, 1009), (1010, 1014), (1015, 1022), (1023, 1030), (1031, 1034), (1034, 1035), (1035, 1038), (1039, 1044), (1044, 1045), (1048, 1056), (1057, 1061), (1062, 1075), (1076, 1083), (1084, 1087), (1088, 1095), (1096, 1098), (1099, 1102), (1103, 1110), (1111, 1115), (1116, 1120), (1121, 1128), (1128, 1129), (1130, 1133), (1133, 1134), (1134, 1139), (1139, 1141), (1141, 1142), (1143, 1148), (1148, 1150), (1150, 1151), (1152, 1153), (1153, 1159), (1159, 1160), (1161, 1164), (1164, 1165), (1165, 1172), (1173, 1176), (1177, 1184), (1184, 1185), (1188, 1191), (1192, 1195), (1195, 1196), (1196, 1201), (1201, 1203), (1204, 1210), (1210, 1211), (1212, 1222), (1223, 1226), (1227, 1234), (1235, 1239), (1240, 1242), (1243, 1246), (1247, 1254), (1254, 1255), (0, 0)], [(0, 0), (0, 4), (5, 7), (8, 11), (12, 19), (20, 23), (23, 24), (0, 0), (1031, 1034), (1034, 1035), (1035, 1038), (1039, 1044), (1044, 1045), (1048, 1056), (1057, 1061), (1062, 1075), (1076, 1083), (1084, 1087), (1088, 1095), (1096, 1098), (1099, 1102), (1103, 1110), (1111, 1115), (1116, 1120), (1121, 1128), (1128, 1129), (1130, 1133), (1133, 1134), (1134, 1139), (1139, 1141), (1141, 1142), (1143, 1148), (1148, 1150), (1150, 1151), (1152, 1153), (1153, 1159), (1159, 1160), (1161, 1164), (1164, 1165), (1165, 1172), (1173, 1176), (1177, 1184), (1184, 1185), (1188, 1191), (1192, 1195), (1195, 1196), (1196, 1201), (1201, 1203), (1204, 1210), (1210, 1211), (1212, 1222), (1223, 1226), (1227, 1234), (1235, 1239), (1240, 1242), (1243, 1246), (1247, 1254), (1254, 1255), (1256, 1261), (1262, 1266), (1267, 1270), (1271, 1279), (1280, 1284), (1285, 1287), (1288, 1291), (1292, 1298), (1298, 1299), (1300, 1304), (1305, 1306), (1307, 1314), (1315, 1317), (1318, 1325), (1326, 1333), (1334, 1338), (1339, 1343), (1344, 1350), (1350, 1351), (1352, 1358), (1359, 1363), (1364, 1367), (1368, 1372), (1373, 1384), (1384, 1385), (0, 0)], [(0, 0), (0, 5), (6, 9), (10, 13), (14, 16), (16, 21), (22, 26), (26, 27), (0, 0), (0, 3), (4, 8), (9, 10), (10, 13), (13, 14), (15, 16), (16, 17), (18, 22), (23, 27), (28, 30), (31, 38), (39, 46), (47, 54), (54, 58), (58, 59), (60, 61), (61, 62), (63, 72), (73, 76), (77, 81), (82, 85), (86, 90), (90, 91), (91, 92), (93, 99), (100, 101), (101, 105), (105, 110), (110, 111), (111, 115), (115, 118), (119, 124), (125, 129), (130, 131), (132, 136), (137, 148), (149, 150), (150, 151), (152, 156), (157, 164), (164, 166), (167, 170), (171, 179), (179, 180), (181, 183), (183, 185), (185, 188), (189, 190), (191, 196), (197, 198), (198, 199), (200, 207), (207, 208), (211, 215), (215, 218), (219, 223), (224, 227), (228, 235), (236, 238), (239, 242), (243, 247), (248, 252), (253, 257), (258, 260), (261, 264), (265, 269), (269, 270), (270, 271), (272, 277), (278, 284), (285, 292), (293, 296), (296, 297), (297, 301), (302, 314), (315, 317), (318, 322), (323, 324), (324, 327), (327, 328), (328, 331), (332, 334), (335, 340), (340, 341), (344, 347), (348, 354), (355, 360), (360, 361), (362, 364), (364, 367), (0, 0)], [(0, 0), (0, 5), (6, 9), (10, 13), (14, 16), (16, 21), (22, 26), (26, 27), (0, 0), (164, 166), (167, 170), (171, 179), (179, 180), (181, 183), (183, 185), (185, 188), (189, 190), (191, 196), (197, 198), (198, 199), (200, 207), (207, 208), (211, 215), (215, 218), (219, 223), (224, 227), (228, 235), (236, 238), (239, 242), (243, 247), (248, 252), (253, 257), (258, 260), (261, 264), (265, 269), (269, 270), (270, 271), (272, 277), (278, 284), (285, 292), (293, 296), (296, 297), (297, 301), (302, 314), (315, 317), (318, 322), (323, 324), (324, 327), (327, 328), (328, 331), (332, 334), (335, 340), (340, 341), (344, 347), (348, 354), (355, 360), (360, 361), (362, 364), (364, 367), (367, 370), (370, 373), (373, 374), (375, 380), (381, 389), (390, 395), (396, 404), (405, 408), (409, 413), (414, 420), (421, 423), (424, 431), (431, 432), (432, 433), (434, 440), (440, 441), (442, 446), (447, 451), (452, 456), (457, 461), (462, 464), (465, 469), (469, 470), (471, 481), (482, 485), (486, 492), (493, 500), (500, 501), (502, 505), (506, 515), (516, 522), (522, 523), (523, 524), (525, 527), (527, 533), (534, 536), (537, 541), (542, 547), (548, 553), (554, 557), (0, 0)], [(0, 0), (0, 5), (6, 9), (10, 13), (14, 16), (16, 21), (22, 26), (26, 27), (0, 0), (328, 331), (332, 334), (335, 340), (340, 341), (344, 347), (348, 354), (355, 360), (360, 361), (362, 364), (364, 367), (367, 370), (370, 373), (373, 374), (375, 380), (381, 389), (390, 395), (396, 404), (405, 408), (409, 413), (414, 420), (421, 423), (424, 431), (431, 432), (432, 433), (434, 440), (440, 441), (442, 446), (447, 451), (452, 456), (457, 461), (462, 464), (465, 469), (469, 470), (471, 481), (482, 485), (486, 492), (493, 500), (500, 501), (502, 505), (506, 515), (516, 522), (522, 523), (523, 524), (525, 527), (527, 533), (534, 536), (537, 541), (542, 547), (548, 553), (554, 557), (558, 560), (560, 565), (565, 566), (567, 569), (570, 573), (574, 580), (580, 581), (584, 591), (591, 592), (592, 593), (594, 599), (599, 600), (601, 606), (607, 610), (611, 614), (615, 618), (618, 619), (619, 625), (626, 630), (631, 633), (634, 637), (638, 643), (643, 644), (645, 650), (650, 653), (654, 655), (655, 658), (658, 659), (659, 662), (663, 667), (668, 669), (670, 675), (676, 678), (679, 683), (684, 688), (688, 689), (690, 695), (695, 696), (697, 704), (705, 709), (0, 0)], [(0, 0), (0, 5), (6, 9), (10, 13), (14, 16), (16, 21), (22, 26), (26, 27), (0, 0), (516, 522), (522, 523), (523, 524), (525, 527), (527, 533), (534, 536), (537, 541), (542, 547), (548, 553), (554, 557), (558, 560), (560, 565), (565, 566), (567, 569), (570, 573), (574, 580), (580, 581), (584, 591), (591, 592), (592, 593), (594, 599), (599, 600), (601, 606), (607, 610), (611, 614), (615, 618), (618, 619), (619, 625), (626, 630), (631, 633), (634, 637), (638, 643), (643, 644), (645, 650), (650, 653), (654, 655), (655, 658), (658, 659), (659, 662), (663, 667), (668, 669), (670, 675), (676, 678), (679, 683), (684, 688), (688, 689), (690, 695), (695, 696), (697, 704), (705, 709), (710, 713), (714, 719), (720, 722), (723, 724), (725, 729), (730, 741), (742, 748), (749, 750), (750, 756), (757, 759), (759, 760), (760, 761), (762, 764), (765, 768), (769, 776), (777, 782), (783, 785), (786, 793), (794, 797), (798, 811), (812, 816), (816, 820), (820, 821), (824, 830), (831, 837), (838, 842), (843, 849), (850, 851), (851, 856), (856, 857), (858, 864), (865, 867), (868, 871), (872, 881), (881, 882), (882, 883), (884, 887), (888, 892), (893, 902), (903, 905), (0, 0)], [(0, 0), (0, 5), (6, 9), (10, 13), (14, 16), (16, 21), (22, 26), (26, 27), (0, 0), (668, 669), (670, 675), (676, 678), (679, 683), (684, 688), (688, 689), (690, 695), (695, 696), (697, 704), (705, 709), (710, 713), (714, 719), (720, 722), (723, 724), (725, 729), (730, 741), (742, 748), (749, 750), (750, 756), (757, 759), (759, 760), (760, 761), (762, 764), (765, 768), (769, 776), (777, 782), (783, 785), (786, 793), (794, 797), (798, 811), (812, 816), (816, 820), (820, 821), (824, 830), (831, 837), (838, 842), (843, 849), (850, 851), (851, 856), (856, 857), (858, 864), (865, 867), (868, 871), (872, 881), (881, 882), (882, 883), (884, 887), (888, 892), (893, 902), (903, 905), (906, 909), (910, 917), (918, 920), (921, 926), (927, 930), (930, 931), (932, 936), (937, 939), (940, 945), (946, 949), (950, 957), (957, 958), (958, 959), (960, 964), (964, 969), (970, 972), (973, 976), (977, 981), (981, 982), (983, 986), (987, 994), (995, 999), (1000, 1003), (1004, 1007), (1008, 1013), (1014, 1021), (1021, 1022), (1025, 1026), (1026, 1029), (1030, 1036), (1037, 1041), (1042, 1043), (1043, 1050), (1050, 1051), (1052, 1056), (1057, 1063), (1064, 1066), (1067, 1073), (1074, 1078), (1079, 1083), (0, 0)], [(0, 0), (0, 5), (6, 9), (10, 13), (14, 16), (16, 21), (22, 26), (26, 27), (0, 0), (858, 864), (865, 867), (868, 871), (872, 881), (881, 882), (882, 883), (884, 887), (888, 892), (893, 902), (903, 905), (906, 909), (910, 917), (918, 920), (921, 926), (927, 930), (930, 931), (932, 936), (937, 939), (940, 945), (946, 949), (950, 957), (957, 958), (958, 959), (960, 964), (964, 969), (970, 972), (973, 976), (977, 981), (981, 982), (983, 986), (987, 994), (995, 999), (1000, 1003), (1004, 1007), (1008, 1013), (1014, 1021), (1021, 1022), (1025, 1026), (1026, 1029), (1030, 1036), (1037, 1041), (1042, 1043), (1043, 1050), (1050, 1051), (1052, 1056), (1057, 1063), (1064, 1066), (1067, 1073), (1074, 1078), (1079, 1083), (1084, 1087), (1088, 1090), (1090, 1091), (1091, 1092), (1093, 1099), (1100, 1104), (1104, 1105), (1106, 1107), (1107, 1108), (1109, 1113), (1114, 1118), (1119, 1126), (1127, 1131), (1132, 1137), (1138, 1144), (1145, 1148), (1149, 1152), (1153, 1157), (1158, 1160), (1161, 1164), (1165, 1171), (1172, 1174), (1175, 1178), (1179, 1181), (1182, 1185), (1186, 1191), (1192, 1195), (1196, 1200), (1201, 1203), (1204, 1208), (1209, 1211), (1212, 1215), (1216, 1221), (1221, 1222), (1222, 1223), (1226, 1232), (1233, 1237), (1238, 1240), (1241, 1246), (1247, 1249), (0, 0)], [(0, 0), (0, 5), (6, 9), (10, 13), (14, 16), (16, 21), (22, 26), (26, 27), (0, 0), (1037, 1041), (1042, 1043), (1043, 1050), (1050, 1051), (1052, 1056), (1057, 1063), (1064, 1066), (1067, 1073), (1074, 1078), (1079, 1083), (1084, 1087), (1088, 1090), (1090, 1091), (1091, 1092), (1093, 1099), (1100, 1104), (1104, 1105), (1106, 1107), (1107, 1108), (1109, 1113), (1114, 1118), (1119, 1126), (1127, 1131), (1132, 1137), (1138, 1144), (1145, 1148), (1149, 1152), (1153, 1157), (1158, 1160), (1161, 1164), (1165, 1171), (1172, 1174), (1175, 1178), (1179, 1181), (1182, 1185), (1186, 1191), (1192, 1195), (1196, 1200), (1201, 1203), (1204, 1208), (1209, 1211), (1212, 1215), (1216, 1221), (1221, 1222), (1222, 1223), (1226, 1232), (1233, 1237), (1238, 1240), (1241, 1246), (1247, 1249), (1250, 1254), (1255, 1256), (1257, 1264), (1265, 1267), (1268, 1271), (1272, 1280), (1281, 1283), (1284, 1291), (1291, 1292), (1295, 1302), (1303, 1305), (1305, 1306), (1307, 1310), (1311, 1317), (1318, 1321), (1322, 1327), (1328, 1330), (1331, 1337), (1338, 1340), (1341, 1345), (1345, 1346), (1347, 1349), (1350, 1356), (1357, 1359), (1360, 1365), (1365, 1366), (1367, 1371), (1372, 1373), (1374, 1376), (1377, 1384), (1385, 1390), (1390, 1391), (1391, 1392), (1393, 1400), (1400, 1401), (1402, 1407), (1408, 1411), (1412, 1414), (1414, 1418), (1419, 1423), (0, 0)], [(0, 0), (0, 5), (6, 9), (10, 13), (14, 16), (16, 21), (22, 26), (26, 27), (0, 0), (1209, 1211), (1212, 1215), (1216, 1221), (1221, 1222), (1222, 1223), (1226, 1232), (1233, 1237), (1238, 1240), (1241, 1246), (1247, 1249), (1250, 1254), (1255, 1256), (1257, 1264), (1265, 1267), (1268, 1271), (1272, 1280), (1281, 1283), (1284, 1291), (1291, 1292), (1295, 1302), (1303, 1305), (1305, 1306), (1307, 1310), (1311, 1317), (1318, 1321), (1322, 1327), (1328, 1330), (1331, 1337), (1338, 1340), (1341, 1345), (1345, 1346), (1347, 1349), (1350, 1356), (1357, 1359), (1360, 1365), (1365, 1366), (1367, 1371), (1372, 1373), (1374, 1376), (1377, 1384), (1385, 1390), (1390, 1391), (1391, 1392), (1393, 1400), (1400, 1401), (1402, 1407), (1408, 1411), (1412, 1414), (1414, 1418), (1419, 1423), (1424, 1427), (1428, 1433), (1434, 1439), (1440, 1444), (1445, 1446), (1446, 1448), (1448, 1449), (1449, 1452), (1452, 1453), (1454, 1461), (1462, 1464), (1465, 1470), (1471, 1475), (1476, 1480), (1481, 1482), (1482, 1484), (1484, 1485), (1485, 1488), (1489, 1493), (1494, 1495), (1496, 1498), (1499, 1506), (1507, 1514), (1514, 1515), (0, 0)], [(0, 0), (0, 3), (4, 8), (9, 12), (13, 17), (18, 22), (22, 23), (0, 0), (0, 3), (4, 8), (9, 10), (10, 13), (13, 14), (15, 16), (16, 17), (18, 22), (23, 27), (28, 30), (31, 38), (39, 46), (47, 54), (54, 58), (58, 59), (60, 61), (61, 62), (63, 72), (73, 76), (77, 81), (82, 85), (86, 90), (90, 91), (91, 92), (93, 99), (100, 101), (101, 105), (105, 110), (110, 111), (111, 115), (115, 118), (119, 124), (125, 129), (130, 131), (132, 136), (137, 148), (149, 150), (150, 151), (152, 156), (157, 164), (164, 166), (167, 170), (171, 179), (179, 180), (181, 183), (183, 185), (185, 188), (189, 190), (191, 196), (197, 198), (198, 199), (200, 207), (207, 208), (211, 215), (215, 218), (219, 223), (224, 227), (228, 235), (236, 238), (239, 242), (243, 247), (248, 252), (253, 257), (258, 260), (261, 264), (265, 269), (269, 270), (270, 271), (272, 277), (278, 284), (285, 292), (293, 296), (296, 297), (297, 301), (302, 314), (315, 317), (318, 322), (323, 324), (324, 327), (327, 328), (328, 331), (332, 334), (335, 340), (340, 341), (344, 347), (348, 354), (355, 360), (360, 361), (362, 364), (364, 367), (367, 370), (0, 0)], [(0, 0), (0, 3), (4, 8), (9, 12), (13, 17), (18, 22), (22, 23), (0, 0), (167, 170), (171, 179), (179, 180), (181, 183), (183, 185), (185, 188), (189, 190), (191, 196), (197, 198), (198, 199), (200, 207), (207, 208), (211, 215), (215, 218), (219, 223), (224, 227), (228, 235), (236, 238), (239, 242), (243, 247), (248, 252), (253, 257), (258, 260), (261, 264), (265, 269), (269, 270), (270, 271), (272, 277), (278, 284), (285, 292), (293, 296), (296, 297), (297, 301), (302, 314), (315, 317), (318, 322), (323, 324), (324, 327), (327, 328), (328, 331), (332, 334), (335, 340), (340, 341), (344, 347), (348, 354), (355, 360), (360, 361), (362, 364), (364, 367), (367, 370), (370, 373), (373, 374), (375, 380), (381, 389), (390, 395), (396, 404), (405, 408), (409, 413), (414, 420), (421, 423), (424, 431), (431, 432), (432, 433), (434, 440), (440, 441), (442, 446), (447, 451), (452, 456), (457, 461), (462, 464), (465, 469), (469, 470), (471, 481), (482, 485), (486, 492), (493, 500), (500, 501), (502, 505), (506, 515), (516, 522), (522, 523), (523, 524), (525, 527), (527, 533), (534, 536), (537, 541), (542, 547), (548, 553), (554, 557), (558, 560), (560, 565), (0, 0)], [(0, 0), (0, 3), (4, 8), (9, 12), (13, 17), (18, 22), (22, 23), (0, 0), (335, 340), (340, 341), (344, 347), (348, 354), (355, 360), (360, 361), (362, 364), (364, 367), (367, 370), (370, 373), (373, 374), (375, 380), (381, 389), (390, 395), (396, 404), (405, 408), (409, 413), (414, 420), (421, 423), (424, 431), (431, 432), (432, 433), (434, 440), (440, 441), (442, 446), (447, 451), (452, 456), (457, 461), (462, 464), (465, 469), (469, 470), (471, 481), (482, 485), (486, 492), (493, 500), (500, 501), (502, 505), (506, 515), (516, 522), (522, 523), (523, 524), (525, 527), (527, 533), (534, 536), (537, 541), (542, 547), (548, 553), (554, 557), (558, 560), (560, 565), (565, 566), (567, 569), (570, 573), (574, 580), (580, 581), (584, 591), (591, 592), (592, 593), (594, 599), (599, 600), (601, 606), (607, 610), (611, 614), (615, 618), (618, 619), (619, 625), (626, 630), (631, 633), (634, 637), (638, 643), (643, 644), (645, 650), (650, 653), (654, 655), (655, 658), (658, 659), (659, 662), (663, 667), (668, 669), (670, 675), (676, 678), (679, 683), (684, 688), (688, 689), (690, 695), (695, 696), (697, 704), (705, 709), (710, 713), (714, 719), (720, 722), (0, 0)], [(0, 0), (0, 3), (4, 8), (9, 12), (13, 17), (18, 22), (22, 23), (0, 0), (525, 527), (527, 533), (534, 536), (537, 541), (542, 547), (548, 553), (554, 557), (558, 560), (560, 565), (565, 566), (567, 569), (570, 573), (574, 580), (580, 581), (584, 591), (591, 592), (592, 593), (594, 599), (599, 600), (601, 606), (607, 610), (611, 614), (615, 618), (618, 619), (619, 625), (626, 630), (631, 633), (634, 637), (638, 643), (643, 644), (645, 650), (650, 653), (654, 655), (655, 658), (658, 659), (659, 662), (663, 667), (668, 669), (670, 675), (676, 678), (679, 683), (684, 688), (688, 689), (690, 695), (695, 696), (697, 704), (705, 709), (710, 713), (714, 719), (720, 722), (723, 724), (725, 729), (730, 741), (742, 748), (749, 750), (750, 756), (757, 759), (759, 760), (760, 761), (762, 764), (765, 768), (769, 776), (777, 782), (783, 785), (786, 793), (794, 797), (798, 811), (812, 816), (816, 820), (820, 821), (824, 830), (831, 837), (838, 842), (843, 849), (850, 851), (851, 856), (856, 857), (858, 864), (865, 867), (868, 871), (872, 881), (881, 882), (882, 883), (884, 887), (888, 892), (893, 902), (903, 905), (906, 909), (910, 917), (918, 920), (921, 926), (0, 0)], [(0, 0), (0, 3), (4, 8), (9, 12), (13, 17), (18, 22), (22, 23), (0, 0), (684, 688), (688, 689), (690, 695), (695, 696), (697, 704), (705, 709), (710, 713), (714, 719), (720, 722), (723, 724), (725, 729), (730, 741), (742, 748), (749, 750), (750, 756), (757, 759), (759, 760), (760, 761), (762, 764), (765, 768), (769, 776), (777, 782), (783, 785), (786, 793), (794, 797), (798, 811), (812, 816), (816, 820), (820, 821), (824, 830), (831, 837), (838, 842), (843, 849), (850, 851), (851, 856), (856, 857), (858, 864), (865, 867), (868, 871), (872, 881), (881, 882), (882, 883), (884, 887), (888, 892), (893, 902), (903, 905), (906, 909), (910, 917), (918, 920), (921, 926), (927, 930), (930, 931), (932, 936), (937, 939), (940, 945), (946, 949), (950, 957), (957, 958), (958, 959), (960, 964), (964, 969), (970, 972), (973, 976), (977, 981), (981, 982), (983, 986), (987, 994), (995, 999), (1000, 1003), (1004, 1007), (1008, 1013), (1014, 1021), (1021, 1022), (1025, 1026), (1026, 1029), (1030, 1036), (1037, 1041), (1042, 1043), (1043, 1050), (1050, 1051), (1052, 1056), (1057, 1063), (1064, 1066), (1067, 1073), (1074, 1078), (1079, 1083), (1084, 1087), (1088, 1090), (1090, 1091), (1091, 1092), (1093, 1099), (0, 0)], [(0, 0), (0, 3), (4, 8), (9, 12), (13, 17), (18, 22), (22, 23), (0, 0), (882, 883), (884, 887), (888, 892), (893, 902), (903, 905), (906, 909), (910, 917), (918, 920), (921, 926), (927, 930), (930, 931), (932, 936), (937, 939), (940, 945), (946, 949), (950, 957), (957, 958), (958, 959), (960, 964), (964, 969), (970, 972), (973, 976), (977, 981), (981, 982), (983, 986), (987, 994), (995, 999), (1000, 1003), (1004, 1007), (1008, 1013), (1014, 1021), (1021, 1022), (1025, 1026), (1026, 1029), (1030, 1036), (1037, 1041), (1042, 1043), (1043, 1050), (1050, 1051), (1052, 1056), (1057, 1063), (1064, 1066), (1067, 1073), (1074, 1078), (1079, 1083), (1084, 1087), (1088, 1090), (1090, 1091), (1091, 1092), (1093, 1099), (1100, 1104), (1104, 1105), (1106, 1107), (1107, 1108), (1109, 1113), (1114, 1118), (1119, 1126), (1127, 1131), (1132, 1137), (1138, 1144), (1145, 1148), (1149, 1152), (1153, 1157), (1158, 1160), (1161, 1164), (1165, 1171), (1172, 1174), (1175, 1178), (1179, 1181), (1182, 1185), (1186, 1191), (1192, 1195), (1196, 1200), (1201, 1203), (1204, 1208), (1209, 1211), (1212, 1215), (1216, 1221), (1221, 1222), (1222, 1223), (1226, 1232), (1233, 1237), (1238, 1240), (1241, 1246), (1247, 1249), (1250, 1254), (1255, 1256), (1257, 1264), (1265, 1267), (1268, 1271), (1272, 1280), (0, 0)], [(0, 0), (0, 3), (4, 8), (9, 12), (13, 17), (18, 22), (22, 23), (0, 0), (1064, 1066), (1067, 1073), (1074, 1078), (1079, 1083), (1084, 1087), (1088, 1090), (1090, 1091), (1091, 1092), (1093, 1099), (1100, 1104), (1104, 1105), (1106, 1107), (1107, 1108), (1109, 1113), (1114, 1118), (1119, 1126), (1127, 1131), (1132, 1137), (1138, 1144), (1145, 1148), (1149, 1152), (1153, 1157), (1158, 1160), (1161, 1164), (1165, 1171), (1172, 1174), (1175, 1178), (1179, 1181), (1182, 1185), (1186, 1191), (1192, 1195), (1196, 1200), (1201, 1203), (1204, 1208), (1209, 1211), (1212, 1215), (1216, 1221), (1221, 1222), (1222, 1223), (1226, 1232), (1233, 1237), (1238, 1240), (1241, 1246), (1247, 1249), (1250, 1254), (1255, 1256), (1257, 1264), (1265, 1267), (1268, 1271), (1272, 1280), (1281, 1283), (1284, 1291), (1291, 1292), (1295, 1302), (1303, 1305), (1305, 1306), (1307, 1310), (1311, 1317), (1318, 1321), (1322, 1327), (1328, 1330), (1331, 1337), (1338, 1340), (1341, 1345), (1345, 1346), (1347, 1349), (1350, 1356), (1357, 1359), (1360, 1365), (1365, 1366), (1367, 1371), (1372, 1373), (1374, 1376), (1377, 1384), (1385, 1390), (1390, 1391), (1391, 1392), (1393, 1400), (1400, 1401), (1402, 1407), (1408, 1411), (1412, 1414), (1414, 1418), (1419, 1423), (1424, 1427), (1428, 1433), (1434, 1439), (1440, 1444), (1445, 1446), (1446, 1448), (1448, 1449), (0, 0)], [(0, 0), (0, 3), (4, 8), (9, 12), (13, 17), (18, 22), (22, 23), (0, 0), (1238, 1240), (1241, 1246), (1247, 1249), (1250, 1254), (1255, 1256), (1257, 1264), (1265, 1267), (1268, 1271), (1272, 1280), (1281, 1283), (1284, 1291), (1291, 1292), (1295, 1302), (1303, 1305), (1305, 1306), (1307, 1310), (1311, 1317), (1318, 1321), (1322, 1327), (1328, 1330), (1331, 1337), (1338, 1340), (1341, 1345), (1345, 1346), (1347, 1349), (1350, 1356), (1357, 1359), (1360, 1365), (1365, 1366), (1367, 1371), (1372, 1373), (1374, 1376), (1377, 1384), (1385, 1390), (1390, 1391), (1391, 1392), (1393, 1400), (1400, 1401), (1402, 1407), (1408, 1411), (1412, 1414), (1414, 1418), (1419, 1423), (1424, 1427), (1428, 1433), (1434, 1439), (1440, 1444), (1445, 1446), (1446, 1448), (1448, 1449), (1449, 1452), (1452, 1453), (1454, 1461), (1462, 1464), (1465, 1470), (1471, 1475), (1476, 1480), (1481, 1482), (1482, 1484), (1484, 1485), (1485, 1488), (1489, 1493), (1494, 1495), (1496, 1498), (1499, 1506), (1507, 1514), (1514, 1515), (0, 0)]]\n"
          ]
        }
      ]
    },
    {
      "cell_type": "markdown",
      "source": [
        "overflow_to_sample_mapping indique après découpage du context (car trop long) à quel context appartient le ième élément de la liste"
      ],
      "metadata": {
        "id": "4b5KQ9RxGYV8"
      }
    },
    {
      "cell_type": "code",
      "source": [
        "print(f\"Here is where each comes from: {inputs['overflow_to_sample_mapping']}.\")"
      ],
      "metadata": {
        "colab": {
          "base_uri": "https://localhost:8080/"
        },
        "id": "Sil35DzfGZpC",
        "outputId": "d2af989e-0533-479b-e0d0-91a305924943"
      },
      "execution_count": 76,
      "outputs": [
        {
          "output_type": "stream",
          "name": "stdout",
          "text": [
            "Here is where each comes from: [0, 0, 0, 0, 0, 0, 1, 1, 1, 1, 1, 1, 2, 2, 2, 2, 2, 2, 2, 2, 3, 3, 3, 3, 3, 3, 3, 3].\n"
          ]
        }
      ]
    },
    {
      "cell_type": "markdown",
      "source": [
        "**feature** : input data which contains information\n",
        "\n",
        "**ids** : id of the token\n",
        "\n",
        "**.keys()** : allows to see every key of a dictionnary\n"
      ],
      "metadata": {
        "id": "sLrQZP8QG0Th"
      }
    },
    {
      "cell_type": "code",
      "source": [
        "inputs.keys()\n",
        "# print(\"input_ids = \", inputs[\"input_ids\"])\n",
        "# print(\"token_type_ids = \",inputs[\"token_type_ids\"])"
      ],
      "metadata": {
        "colab": {
          "base_uri": "https://localhost:8080/"
        },
        "id": "_q6JI_FmHJ3B",
        "outputId": "33fc774d-dece-4db8-be08-56bd9c3823f1"
      },
      "execution_count": 151,
      "outputs": [
        {
          "output_type": "execute_result",
          "data": {
            "text/plain": [
              "dict_keys(['input_ids', 'token_type_ids', 'attention_mask', 'offset_mapping', 'overflow_to_sample_mapping'])"
            ]
          },
          "metadata": {},
          "execution_count": 151
        }
      ]
    },
    {
      "cell_type": "code",
      "source": [
        "start_positions = []\n",
        "end_positions = []\n",
        "\n",
        "questions = dataset[\"train\"][\"question\"][0:3]\n",
        "contexts = dataset[\"train\"][\"context\"][0:3]\n",
        "answers_text = dataset[\"train\"][\"answer_text\"][0:3]\n",
        "answers_start = dataset[\"train\"][\"answer_start\"][0:3]\n",
        "answers_end = dataset[\"train\"][\"answer_end\"][0:3]\n",
        "\n",
        "for i, offset in enumerate(inputs[\"offset_mapping\"]):\n",
        "    sample_idx = inputs[\"overflow_to_sample_mapping\"][i]\n",
        "    answer_text = answers_text[sample_idx]\n",
        "    start_char = answers_start[sample_idx]\n",
        "    end_char = answers_end[sample_idx]\n",
        "    print(f\"sample idx : {sample_idx} / answer text : {answer_text} / start char {start_char} / end char : {end_char}\")\n",
        "    sequence_ids = inputs.sequence_ids(i)\n",
        "\n",
        "    # Find the start and end of the context\n",
        "    idx = 0\n",
        "    while sequence_ids[idx] != 1:\n",
        "        idx += 1\n",
        "    context_start = idx\n",
        "    while sequence_ids[idx] == 1:\n",
        "        idx += 1\n",
        "    context_end = idx - 1\n",
        "\n",
        "    # If the answer is not fully inside the context, label is (0, 0)\n",
        "    if offset[context_start][0] > start_char or offset[context_end][1] < end_char:\n",
        "        start_positions.append(0)\n",
        "        end_positions.append(0)\n",
        "    else:\n",
        "        # Otherwise it's the start and end token positions\n",
        "        idx = context_start\n",
        "        while idx <= context_end and offset[idx][0] <= start_char:\n",
        "            idx += 1\n",
        "        start_positions.append(idx - 1)\n",
        "\n",
        "        idx = context_end\n",
        "        while idx >= context_start and offset[idx][1] >= end_char:\n",
        "            idx -= 1\n",
        "        end_positions.append(idx + 1)\n",
        "\n",
        "print(start_positions)\n",
        "print(end_positions)"
      ],
      "metadata": {
        "colab": {
          "base_uri": "https://localhost:8080/"
        },
        "id": "IrutYShQnhiF",
        "outputId": "4f2a304f-d846-4699-d7b1-d6121ececd60"
      },
      "execution_count": 179,
      "outputs": [
        {
          "output_type": "stream",
          "name": "stdout",
          "text": [
            "sample idx : 0 / answer text : It was formally established in 1475 / start char 151 / end char : 179\n",
            "sample idx : 0 / answer text : It was formally established in 1475 / start char 151 / end char : 179\n",
            "sample idx : 0 / answer text : It was formally established in 1475 / start char 151 / end char : 179\n",
            "sample idx : 0 / answer text : It was formally established in 1475 / start char 151 / end char : 179\n",
            "sample idx : 0 / answer text : It was formally established in 1475 / start char 151 / end char : 179\n",
            "sample idx : 0 / answer text : It was formally established in 1475 / start char 151 / end char : 179\n",
            "sample idx : 1 / answer text : research / start char 454 / end char : 494\n",
            "sample idx : 1 / answer text : research / start char 454 / end char : 494\n",
            "sample idx : 1 / answer text : research / start char 454 / end char : 494\n",
            "sample idx : 1 / answer text : research / start char 454 / end char : 494\n",
            "sample idx : 1 / answer text : research / start char 454 / end char : 494\n",
            "sample idx : 1 / answer text : research / start char 454 / end char : 494\n",
            "sample idx : 2 / answer text : history, and law / start char 457 / end char : 511\n",
            "sample idx : 2 / answer text : history, and law / start char 457 / end char : 511\n",
            "sample idx : 2 / answer text : history, and law / start char 457 / end char : 511\n",
            "sample idx : 2 / answer text : history, and law / start char 457 / end char : 511\n",
            "sample idx : 2 / answer text : history, and law / start char 457 / end char : 511\n",
            "sample idx : 2 / answer text : history, and law / start char 457 / end char : 511\n",
            "[42, 0, 0, 0, 0, 0, 0, 66, 25, 0, 0, 0, 0, 63, 20, 0, 0, 0]\n",
            "[47, 0, 0, 0, 0, 0, 0, 72, 31, 0, 0, 0, 0, 72, 29, 0, 0, 0]\n"
          ]
        }
      ]
    },
    {
      "cell_type": "markdown",
      "source": [
        "Found indexes corresponds to tokens indexes"
      ],
      "metadata": {
        "id": "iHBHUip7ACGY"
      }
    },
    {
      "cell_type": "code",
      "source": [
        "idx = 0\n",
        "sample_idx = inputs[\"overflow_to_sample_mapping\"][idx]\n",
        "answer = answers[sample_idx]\n",
        "\n",
        "start = start_positions[idx]\n",
        "end = end_positions[idx]\n",
        "labeled_answer = tokenizer.decode(inputs[\"input_ids\"][idx][start : end + 1])\n",
        "\n",
        "print(f\"Theoretical answer: {answer}, labels give: {labeled_answer}\")"
      ],
      "metadata": {
        "colab": {
          "base_uri": "https://localhost:8080/"
        },
        "id": "9gW3lvIJzmEi",
        "outputId": "a62af15e-e2b9-4f13-fd31-cf9f3b6b50b2"
      },
      "execution_count": 183,
      "outputs": [
        {
          "output_type": "stream",
          "name": "stdout",
          "text": [
            "Theoretical answer: It was formally established in 1475, labels give: Formally established in 1475\n"
          ]
        }
      ]
    },
    {
      "cell_type": "markdown",
      "source": [
        "Now let's wrapp it up in a function to apply it to the entire dataset"
      ],
      "metadata": {
        "id": "6JObYwBwDTGw"
      }
    },
    {
      "cell_type": "code",
      "source": [
        "max_length = 384\n",
        "stride = 128\n",
        "\n",
        "def preprocess_training_examples(examples):\n",
        "    questions = examples[\"question\"]\n",
        "    inputs = tokenizer(\n",
        "        questions,\n",
        "        examples[\"context\"],\n",
        "        max_length=max_length,\n",
        "        truncation=\"only_second\",\n",
        "        stride=stride,\n",
        "        return_overflowing_tokens=True,\n",
        "        return_offsets_mapping=True,\n",
        "        padding=\"max_length\",\n",
        "    )\n",
        "    offset_mapping = inputs.pop(\"offset_mapping\")\n",
        "    sample_map = inputs.pop(\"overflow_to_sample_mapping\")\n",
        "    start_positions = []\n",
        "    end_positions = []\n",
        "\n",
        "    answers_text = examples[\"answer_text\"]\n",
        "    answers_start = examples[\"answer_start\"]\n",
        "    answers_end = examples[\"answer_end\"]\n",
        "\n",
        "    for i, offset in enumerate(offset_mapping):\n",
        "      sample_idx = sample_map[i]\n",
        "      start_char = answers_start[sample_idx]\n",
        "      end_char = answers_end[sample_idx]\n",
        "      sequence_ids = inputs.sequence_ids(i)\n",
        "\n",
        "      # Find the start and end of the context\n",
        "      idx = 0\n",
        "      while sequence_ids[idx] != 1:\n",
        "          idx += 1\n",
        "      context_start = idx\n",
        "      while sequence_ids[idx] == 1:\n",
        "          idx += 1\n",
        "      context_end = idx - 1\n",
        "\n",
        "      # If the answer is not fully inside the context, label is (0, 0)\n",
        "      if offset[context_start][0] > start_char or offset[context_end][1] < end_char:\n",
        "          start_positions.append(0)\n",
        "          end_positions.append(0)\n",
        "      else:\n",
        "          # Otherwise it's the start and end token positions\n",
        "          idx = context_start\n",
        "          while idx <= context_end and offset[idx][0] <= start_char:\n",
        "              idx += 1\n",
        "          start_positions.append(idx - 1)\n",
        "\n",
        "          idx = context_end\n",
        "          while idx >= context_start and offset[idx][1] >= end_char:\n",
        "              idx -= 1\n",
        "          end_positions.append(idx + 1)\n",
        "\n",
        "    inputs[\"start_positions\"] = start_positions\n",
        "    inputs[\"end_positions\"] = end_positions\n",
        "    return inputs"
      ],
      "metadata": {
        "id": "VXfl-4L5DX_B"
      },
      "execution_count": 223,
      "outputs": []
    },
    {
      "cell_type": "code",
      "source": [
        "train_dataset = dataset[\"train\"].map(\n",
        "    preprocess_training_examples,\n",
        "    batched=True,\n",
        "    remove_columns=dataset[\"train\"].column_names,\n",
        ")\n",
        "len(dataset[\"train\"]), len(train_dataset)"
      ],
      "metadata": {
        "colab": {
          "base_uri": "https://localhost:8080/"
        },
        "id": "tsOLouFWFW46",
        "outputId": "5a3caf7e-7214-41c0-d09d-8d18884c2447"
      },
      "execution_count": 227,
      "outputs": [
        {
          "output_type": "execute_result",
          "data": {
            "text/plain": [
              "(108647, 151990)"
            ]
          },
          "metadata": {},
          "execution_count": 227
        }
      ]
    },
    {
      "cell_type": "markdown",
      "source": [
        "## Preprocess validation data"
      ],
      "metadata": {
        "id": "OBJUSf-ZaAt7"
      }
    },
    {
      "cell_type": "markdown",
      "source": [
        "We use the unused 'title' column to store from which example the generated feature comes"
      ],
      "metadata": {
        "id": "8TZ517oLbuxz"
      }
    },
    {
      "cell_type": "code",
      "source": [
        "dataset['validation'] = dataset[\"validation\"].rename_column('title','id')"
      ],
      "metadata": {
        "id": "_TPtM0J7bVj_"
      },
      "execution_count": 233,
      "outputs": []
    },
    {
      "cell_type": "code",
      "source": [
        "def preprocess_validation_examples(examples):\n",
        "    questions = examples[\"question\"]\n",
        "    inputs = tokenizer(\n",
        "        questions,\n",
        "        examples[\"context\"],\n",
        "        max_length=max_length,\n",
        "        truncation=\"only_second\",\n",
        "        stride=stride,\n",
        "        return_overflowing_tokens=True,\n",
        "        return_offsets_mapping=True,\n",
        "        padding=\"max_length\",\n",
        "    )\n",
        "\n",
        "    sample_map = inputs.pop(\"overflow_to_sample_mapping\")\n",
        "    example_ids = []\n",
        "\n",
        "    for i in range(len(inputs[\"input_ids\"])):\n",
        "        sample_idx = sample_map[i]\n",
        "        example_ids.append(examples[\"id\"][sample_idx])\n",
        "\n",
        "        sequence_ids = inputs.sequence_ids(i)\n",
        "        offset = inputs[\"offset_mapping\"][i]\n",
        "        inputs[\"offset_mapping\"][i] = [\n",
        "            o if sequence_ids[k] == 1 else None for k, o in enumerate(offset)\n",
        "        ]\n",
        "\n",
        "    inputs[\"example_id\"] = example_ids\n",
        "    return inputs"
      ],
      "metadata": {
        "id": "3U7fWVpfZ94W"
      },
      "execution_count": 234,
      "outputs": []
    },
    {
      "cell_type": "code",
      "source": [
        "validation_dataset = dataset[\"validation\"].map(\n",
        "    preprocess_validation_examples,\n",
        "    batched=True,\n",
        "    remove_columns = dataset[\"validation\"].column_names,\n",
        ")\n",
        "len(dataset[\"validation\"]), len(validation_dataset)"
      ],
      "metadata": {
        "colab": {
          "base_uri": "https://localhost:8080/",
          "height": 66,
          "referenced_widgets": [
            "ba4303cfa3fd44ad99899712e48f736b",
            "7b28d3c83ce543b49a55f31a70d3cfd7",
            "bba075407bcb473796e8e17e04b32498",
            "2aaacfdefe384d1cbdd1b6bd47edfc19",
            "08e4308eb6a7433c830ba26de16a2191",
            "b4cf6fbe1a2547bb83cda2d711687013",
            "e9603c87b50748acb30ed4a92b1e4292",
            "68ba0ccd0a2544b8bbca8bb55311bfa5",
            "fca717744a634501ab97f95658cafed6",
            "4273788417bd4013adf7c1a74c89a4b6",
            "b5f4587dd9aa476cbda8aa359416d157"
          ]
        },
        "id": "UVJJFzklFX9a",
        "outputId": "950a3f6f-b41d-4223-de55-af773a44ba90"
      },
      "execution_count": 235,
      "outputs": [
        {
          "output_type": "display_data",
          "data": {
            "text/plain": [
              "Map:   0%|          | 0/7983 [00:00<?, ? examples/s]"
            ],
            "application/vnd.jupyter.widget-view+json": {
              "version_major": 2,
              "version_minor": 0,
              "model_id": "ba4303cfa3fd44ad99899712e48f736b"
            }
          },
          "metadata": {}
        },
        {
          "output_type": "execute_result",
          "data": {
            "text/plain": [
              "(7983, 10951)"
            ]
          },
          "metadata": {},
          "execution_count": 235
        }
      ]
    }
  ]
}